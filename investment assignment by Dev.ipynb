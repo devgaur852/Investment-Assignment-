{
 "cells": [
  {
   "cell_type": "markdown",
   "metadata": {},
   "source": [
    "# Investment Analysis Assignment\n"
   ]
  },
  {
   "cell_type": "markdown",
   "metadata": {},
   "source": [
    "### By: Dev Kumar Singh"
   ]
  },
  {
   "cell_type": "markdown",
   "metadata": {},
   "source": [
    "Introduction:  Spark Funds wants to make investments in a few companies. The CEO of Spark Funds wants to understand the global                  trends in investments so that she can take the investment decisions effectively."
   ]
  },
  {
   "cell_type": "code",
   "execution_count": 1,
   "metadata": {},
   "outputs": [],
   "source": [
    "# Lets import the necessary libraries\n",
    "import numpy as np"
   ]
  },
  {
   "cell_type": "code",
   "execution_count": 2,
   "metadata": {},
   "outputs": [],
   "source": [
    "import pandas as pd\n",
    "import seaborn as sns\n",
    "import matplotlib.pyplot as plt\n",
    "import warnings\n",
    "warnings.filterwarnings('ignore')\n",
    "pd.options.display.float_format='{:,.2f}'.format"
   ]
  },
  {
   "cell_type": "markdown",
   "metadata": {},
   "source": [
    "Loading the company and rounds 2 files to pandas dataframe "
   ]
  },
  {
   "cell_type": "code",
   "execution_count": 3,
   "metadata": {},
   "outputs": [],
   "source": [
    "companies = pd.read_csv(r'C:\\Users\\SDS\\Downloads\\Investment assignment\\companies.csv',encoding='ISO-8859-1')\n",
    "rounds2 = pd.read_csv(r'C:\\Users\\SDS\\Downloads\\Investment assignment\\rounds2.csv',encoding='ISO-8859-1')"
   ]
  },
  {
   "cell_type": "code",
   "execution_count": 4,
   "metadata": {},
   "outputs": [
    {
     "name": "stdout",
     "output_type": "stream",
     "text": [
      "<class 'pandas.core.frame.DataFrame'>\n",
      "RangeIndex: 66368 entries, 0 to 66367\n",
      "Data columns (total 10 columns):\n",
      " #   Column         Non-Null Count  Dtype \n",
      "---  ------         --------------  ----- \n",
      " 0   permalink      66368 non-null  object\n",
      " 1   name           66367 non-null  object\n",
      " 2   homepage_url   61310 non-null  object\n",
      " 3   category_list  63220 non-null  object\n",
      " 4   status         66368 non-null  object\n",
      " 5   country_code   59410 non-null  object\n",
      " 6   state_code     57821 non-null  object\n",
      " 7   region         58338 non-null  object\n",
      " 8   city           58340 non-null  object\n",
      " 9   founded_at     51147 non-null  object\n",
      "dtypes: object(10)\n",
      "memory usage: 5.1+ MB\n"
     ]
    }
   ],
   "source": [
    "companies.shape\n",
    "companies.info()"
   ]
  },
  {
   "cell_type": "code",
   "execution_count": 5,
   "metadata": {},
   "outputs": [
    {
     "name": "stdout",
     "output_type": "stream",
     "text": [
      "<class 'pandas.core.frame.DataFrame'>\n",
      "RangeIndex: 114949 entries, 0 to 114948\n",
      "Data columns (total 6 columns):\n",
      " #   Column                   Non-Null Count   Dtype  \n",
      "---  ------                   --------------   -----  \n",
      " 0   company_permalink        114949 non-null  object \n",
      " 1   funding_round_permalink  114949 non-null  object \n",
      " 2   funding_round_type       114949 non-null  object \n",
      " 3   funding_round_code       31140 non-null   object \n",
      " 4   funded_at                114949 non-null  object \n",
      " 5   raised_amount_usd        94959 non-null   float64\n",
      "dtypes: float64(1), object(5)\n",
      "memory usage: 5.3+ MB\n"
     ]
    }
   ],
   "source": [
    "rounds2.shape\n",
    "rounds2.info()"
   ]
  },
  {
   "cell_type": "code",
   "execution_count": 6,
   "metadata": {},
   "outputs": [],
   "source": [
    "unique_rounds2 = len(rounds2.company_permalink.unique())"
   ]
  },
  {
   "cell_type": "code",
   "execution_count": 7,
   "metadata": {},
   "outputs": [],
   "source": [
    "unique_companies = len(companies.permalink.unique())"
   ]
  },
  {
   "cell_type": "code",
   "execution_count": 8,
   "metadata": {},
   "outputs": [
    {
     "data": {
      "text/plain": [
       "90247"
      ]
     },
     "execution_count": 8,
     "metadata": {},
     "output_type": "execute_result"
    }
   ],
   "source": [
    "unique_rounds2"
   ]
  },
  {
   "cell_type": "code",
   "execution_count": 9,
   "metadata": {},
   "outputs": [
    {
     "data": {
      "text/plain": [
       "66368"
      ]
     },
     "execution_count": 9,
     "metadata": {},
     "output_type": "execute_result"
    }
   ],
   "source": [
    "unique_companies"
   ]
  },
  {
   "cell_type": "markdown",
   "metadata": {},
   "source": [
    "It can be observed from the data that the permalink column has some entry as uppercase while some as lower case. Converting complete company_permalink column to lower case"
   ]
  },
  {
   "cell_type": "code",
   "execution_count": 10,
   "metadata": {},
   "outputs": [],
   "source": [
    "rounds2[\"company_permalink\"] = rounds2[\"company_permalink\"].str.lower()\n",
    "companies[\"permalink\"] = companies[\"permalink\"].str.lower()"
   ]
  },
  {
   "cell_type": "code",
   "execution_count": 11,
   "metadata": {},
   "outputs": [
    {
     "data": {
      "text/plain": [
       "66370"
      ]
     },
     "execution_count": 11,
     "metadata": {},
     "output_type": "execute_result"
    }
   ],
   "source": [
    "unique_rounds2=len(rounds2[\"company_permalink\"].unique())\n",
    "unique_rounds2"
   ]
  },
  {
   "cell_type": "code",
   "execution_count": 12,
   "metadata": {},
   "outputs": [
    {
     "data": {
      "text/plain": [
       "66368"
      ]
     },
     "execution_count": 12,
     "metadata": {},
     "output_type": "execute_result"
    }
   ],
   "source": [
    "unique_companies=len(companies.permalink.unique())\n",
    "unique_companies"
   ]
  },
  {
   "cell_type": "markdown",
   "metadata": {},
   "source": [
    "#### Now I am giving the answers for the questions in Table 1.1"
   ]
  },
  {
   "cell_type": "markdown",
   "metadata": {},
   "source": [
    "Ques 1. - How many unique companies are present in rounds2?\n",
    "\n",
    "Ans. - 66370"
   ]
  },
  {
   "cell_type": "markdown",
   "metadata": {},
   "source": [
    "Ques 2. - How many unique companies are present in the companies file?\n",
    "\n",
    "Ans. - 66368"
   ]
  },
  {
   "cell_type": "markdown",
   "metadata": {},
   "source": [
    "Ques 3. - In the companies data frame, which column can be used as the  unique key for each company? Write the name of the column.\n",
    "\n",
    "Ans. - Permalink"
   ]
  },
  {
   "cell_type": "markdown",
   "metadata": {},
   "source": [
    "Ques 4. - Are there any companies in the rounds2 file which are not  present in companies ? Answer Y/N.\n",
    "\n",
    "Ans. - Yes there is difference of 2"
   ]
  },
  {
   "cell_type": "markdown",
   "metadata": {},
   "source": [
    "#### Merging the two dataframes"
   ]
  },
  {
   "cell_type": "code",
   "execution_count": 13,
   "metadata": {},
   "outputs": [],
   "source": [
    "master_frame=pd.merge(rounds2,companies,how=\"left\",left_on=\"company_permalink\",right_on=\"permalink\")"
   ]
  },
  {
   "cell_type": "code",
   "execution_count": 14,
   "metadata": {},
   "outputs": [
    {
     "data": {
      "text/plain": [
       "(114949, 16)"
      ]
     },
     "execution_count": 14,
     "metadata": {},
     "output_type": "execute_result"
    }
   ],
   "source": [
    "master_frame.shape"
   ]
  },
  {
   "cell_type": "markdown",
   "metadata": {},
   "source": [
    "Ques 5. - Merge the two data frames so that all  variables (columns)  in the companies frame are added to the rounds2 data frame. Name the merged frame master_frame. How many observations are present in master_frame ?\n",
    "\n",
    "Ans. - 114949 rows and 16 columns are present in master dataframe."
   ]
  },
  {
   "cell_type": "markdown",
   "metadata": {},
   "source": [
    "##### Cleaning the merged data set for further analysis"
   ]
  },
  {
   "cell_type": "code",
   "execution_count": 15,
   "metadata": {},
   "outputs": [
    {
     "data": {
      "text/plain": [
       "company_permalink              0\n",
       "funding_round_permalink        0\n",
       "funding_round_type             0\n",
       "funding_round_code         83809\n",
       "funded_at                      0\n",
       "raised_amount_usd          19990\n",
       "permalink                      7\n",
       "name                           8\n",
       "homepage_url                6139\n",
       "category_list               3414\n",
       "status                         7\n",
       "country_code                8678\n",
       "state_code                 10946\n",
       "region                     10167\n",
       "city                       10164\n",
       "founded_at                 20527\n",
       "dtype: int64"
      ]
     },
     "execution_count": 15,
     "metadata": {},
     "output_type": "execute_result"
    }
   ],
   "source": [
    "# summing up the missing values count (column-wise)\n",
    "master_frame.isnull().sum()"
   ]
  },
  {
   "cell_type": "code",
   "execution_count": 16,
   "metadata": {},
   "outputs": [
    {
     "data": {
      "text/plain": [
       "company_permalink          0.00\n",
       "funding_round_permalink    0.00\n",
       "funding_round_type         0.00\n",
       "funding_round_code        72.91\n",
       "funded_at                  0.00\n",
       "raised_amount_usd         17.39\n",
       "permalink                  0.01\n",
       "name                       0.01\n",
       "homepage_url               5.34\n",
       "category_list              2.97\n",
       "status                     0.01\n",
       "country_code               7.55\n",
       "state_code                 9.52\n",
       "region                     8.84\n",
       "city                       8.84\n",
       "founded_at                17.86\n",
       "dtype: float64"
      ]
     },
     "execution_count": 16,
     "metadata": {},
     "output_type": "execute_result"
    }
   ],
   "source": [
    "# missing values per column expressed as % of total number of values\n",
    "round(100*(master_frame.isnull().sum()/len(master_frame.index)), 2)"
   ]
  },
  {
   "cell_type": "markdown",
   "metadata": {},
   "source": [
    "'raised_amount_usd' is a required column for analysis. Blank or null values in this field can either be deleted or imputed statistically.\n",
    "Here, choosing to remove these values for analysis as it accounts for 17% of data."
   ]
  },
  {
   "cell_type": "code",
   "execution_count": 17,
   "metadata": {},
   "outputs": [
    {
     "data": {
      "text/plain": [
       "19990"
      ]
     },
     "execution_count": 17,
     "metadata": {},
     "output_type": "execute_result"
    }
   ],
   "source": [
    "master_frame['raised_amount_usd'].isnull().sum()"
   ]
  },
  {
   "cell_type": "code",
   "execution_count": 18,
   "metadata": {},
   "outputs": [],
   "source": [
    "master_frame = master_frame[~master_frame.raised_amount_usd.isnull()]"
   ]
  },
  {
   "cell_type": "code",
   "execution_count": 19,
   "metadata": {},
   "outputs": [
    {
     "data": {
      "text/plain": [
       "0"
      ]
     },
     "execution_count": 19,
     "metadata": {},
     "output_type": "execute_result"
    }
   ],
   "source": [
    "master_frame['raised_amount_usd'].isnull().sum()"
   ]
  },
  {
   "cell_type": "code",
   "execution_count": 20,
   "metadata": {},
   "outputs": [
    {
     "data": {
      "text/plain": [
       "(94959, 16)"
      ]
     },
     "execution_count": 20,
     "metadata": {},
     "output_type": "execute_result"
    }
   ],
   "source": [
    "master_frame.shape"
   ]
  },
  {
   "cell_type": "code",
   "execution_count": 21,
   "metadata": {},
   "outputs": [
    {
     "data": {
      "text/plain": [
       "company_permalink          0.00\n",
       "funding_round_permalink    0.00\n",
       "funding_round_type         0.00\n",
       "funding_round_code        70.34\n",
       "funded_at                  0.00\n",
       "raised_amount_usd          0.00\n",
       "permalink                  0.00\n",
       "name                       0.00\n",
       "homepage_url               4.56\n",
       "category_list              1.10\n",
       "status                     0.00\n",
       "country_code               6.16\n",
       "state_code                 8.01\n",
       "region                     7.42\n",
       "city                       7.42\n",
       "founded_at                16.81\n",
       "dtype: float64"
      ]
     },
     "execution_count": 21,
     "metadata": {},
     "output_type": "execute_result"
    }
   ],
   "source": [
    "round(100*(master_frame.isnull().sum()/len(master_frame.index)),2)"
   ]
  },
  {
   "cell_type": "markdown",
   "metadata": {},
   "source": [
    "Further, the missing data columns of 'funding_round_code', 'founded_at', 'homepage_url' which are 70.34%,16.81% and 4.56% of data are not required for this analysis. Hense, droping these columns.\n",
    "\n",
    "On the other hand the columns, country_code and category_list are needed for the analysis. Therefore removing rows with null or empty value in these columns."
   ]
  },
  {
   "cell_type": "code",
   "execution_count": 22,
   "metadata": {},
   "outputs": [],
   "source": [
    "master_frame = master_frame.drop(['funding_round_code','founded_at','homepage_url'], axis=1)"
   ]
  },
  {
   "cell_type": "code",
   "execution_count": 23,
   "metadata": {},
   "outputs": [
    {
     "data": {
      "text/plain": [
       "company_permalink         0.00\n",
       "funding_round_permalink   0.00\n",
       "funding_round_type        0.00\n",
       "funded_at                 0.00\n",
       "raised_amount_usd         0.00\n",
       "permalink                 0.00\n",
       "name                      0.00\n",
       "category_list             1.10\n",
       "status                    0.00\n",
       "country_code              6.16\n",
       "state_code                8.01\n",
       "region                    7.42\n",
       "city                      7.42\n",
       "dtype: float64"
      ]
     },
     "execution_count": 23,
     "metadata": {},
     "output_type": "execute_result"
    }
   ],
   "source": [
    "round(100*(master_frame.isnull().sum()/len(master_frame.index)),2)"
   ]
  },
  {
   "cell_type": "code",
   "execution_count": 24,
   "metadata": {},
   "outputs": [],
   "source": [
    "master_frame = master_frame[~master_frame['country_code'].isnull()]"
   ]
  },
  {
   "cell_type": "code",
   "execution_count": 25,
   "metadata": {},
   "outputs": [],
   "source": [
    "master_frame = master_frame[~master_frame['category_list'].isnull()]"
   ]
  },
  {
   "cell_type": "code",
   "execution_count": 26,
   "metadata": {},
   "outputs": [
    {
     "data": {
      "text/plain": [
       "company_permalink         0.00\n",
       "funding_round_permalink   0.00\n",
       "funding_round_type        0.00\n",
       "funded_at                 0.00\n",
       "raised_amount_usd         0.00\n",
       "permalink                 0.00\n",
       "name                      0.00\n",
       "category_list             0.00\n",
       "status                    0.00\n",
       "country_code              0.00\n",
       "state_code                1.96\n",
       "region                    1.34\n",
       "city                      1.33\n",
       "dtype: float64"
      ]
     },
     "execution_count": 26,
     "metadata": {},
     "output_type": "execute_result"
    }
   ],
   "source": [
    "round(100*(master_frame.isnull().sum()/len(master_frame.index)),2)"
   ]
  },
  {
   "cell_type": "markdown",
   "metadata": {},
   "source": [
    "Leaving the other null values. These are a very low percentage and are not a part of this analysis. We can remove such records but we decide to leave as they will not impact the analysis parameters"
   ]
  },
  {
   "cell_type": "code",
   "execution_count": 27,
   "metadata": {},
   "outputs": [
    {
     "data": {
      "text/plain": [
       "(88529, 13)"
      ]
     },
     "execution_count": 27,
     "metadata": {},
     "output_type": "execute_result"
    }
   ],
   "source": [
    "master_frame.shape"
   ]
  },
  {
   "cell_type": "markdown",
   "metadata": {},
   "source": [
    "## Funding Type Analysis"
   ]
  },
  {
   "cell_type": "markdown",
   "metadata": {},
   "source": [
    "Identifying the most suitable investment type for Sparks Fund as specified, Sparks fund want to choose between one of the four investment type(seed, angel, venture, private_equity)."
   ]
  },
  {
   "cell_type": "code",
   "execution_count": 28,
   "metadata": {},
   "outputs": [],
   "source": [
    "master_frame = master_frame[master_frame['funding_round_type'].isin(['seed','angel','venture','private_equity'])]"
   ]
  },
  {
   "cell_type": "code",
   "execution_count": 29,
   "metadata": {},
   "outputs": [],
   "source": [
    "master_by_fundingtype = master_frame.groupby('funding_round_type')"
   ]
  },
  {
   "cell_type": "code",
   "execution_count": 30,
   "metadata": {},
   "outputs": [
    {
     "data": {
      "text/plain": [
       "funding_round_type\n",
       "private_equity   20,000,000.00\n",
       "venture           5,000,000.00\n",
       "angel               414,906.00\n",
       "seed                300,000.00\n",
       "Name: raised_amount_usd, dtype: float64"
      ]
     },
     "execution_count": 30,
     "metadata": {},
     "output_type": "execute_result"
    }
   ],
   "source": [
    "# Here I use the aggregate function median to show the most representative value of the investment amount for each of the four funding type\n",
    "master_by_fundingtype['raised_amount_usd'].median().sort_values(ascending=False)"
   ]
  },
  {
   "cell_type": "markdown",
   "metadata": {},
   "source": [
    "##### So clearly From the above, 'Venture' type of Investment is ideal investment for Sparks Fund. It satisfy the investment constrain of investment of 5M to 15M USD."
   ]
  },
  {
   "cell_type": "markdown",
   "metadata": {},
   "source": [
    "#### So from this analysis I can answer all the questions from Table 2.1"
   ]
  },
  {
   "cell_type": "markdown",
   "metadata": {},
   "source": [
    "Quest.1- Representative funding amount of venture type. \n",
    "\n",
    "Ans-       5,000,000"
   ]
  },
  {
   "cell_type": "markdown",
   "metadata": {},
   "source": [
    "Quest.2- Representative funding amount of angel type.\n",
    "\n",
    "Ans- 414,906"
   ]
  },
  {
   "cell_type": "markdown",
   "metadata": {},
   "source": [
    "Quest.3- Representative funding amount of seed type.\n",
    "\n",
    "Ans- 300,000"
   ]
  },
  {
   "cell_type": "markdown",
   "metadata": {},
   "source": [
    "Quest.4- Representative funding amount of private equity type.\n",
    "\n",
    "Ans- 20,000,000"
   ]
  },
  {
   "cell_type": "markdown",
   "metadata": {},
   "source": [
    "Quest.5- Considering that Spark Funds wants to invest between 5 to 15 million USD per  investment round, which investment type is the most suitable for them?\n",
    "\n",
    "Ans.- 'Venture type' because it comes under 5M to 15M slot."
   ]
  },
  {
   "cell_type": "markdown",
   "metadata": {},
   "source": [
    "## Country Analysis"
   ]
  },
  {
   "cell_type": "markdown",
   "metadata": {},
   "source": [
    "Now for further analysis I only took the venture type investment so filtering the data accordingly."
   ]
  },
  {
   "cell_type": "code",
   "execution_count": 31,
   "metadata": {},
   "outputs": [],
   "source": [
    "venture_df = master_frame[master_frame['funding_round_type']=='venture']"
   ]
  },
  {
   "cell_type": "markdown",
   "metadata": {},
   "source": [
    "Now finding the top9 countries which recieved highest funding. So for this I did groupby on country code."
   ]
  },
  {
   "cell_type": "code",
   "execution_count": 32,
   "metadata": {},
   "outputs": [],
   "source": [
    "venture_by_country = venture_df.groupby('country_code')"
   ]
  },
  {
   "cell_type": "code",
   "execution_count": 33,
   "metadata": {},
   "outputs": [
    {
     "data": {
      "text/plain": [
       "country_code\n",
       "USA   420,068,029,342.00\n",
       "CHN    39,338,918,773.00\n",
       "GBR    20,072,813,004.00\n",
       "IND    14,261,508,718.00\n",
       "CAN     9,482,217,668.00\n",
       "             ...        \n",
       "MCO           657,000.00\n",
       "SAU           500,000.00\n",
       "CMR           359,561.00\n",
       "GTM           300,000.00\n",
       "MMR           200,000.00\n",
       "Name: raised_amount_usd, Length: 97, dtype: float64"
      ]
     },
     "execution_count": 33,
     "metadata": {},
     "output_type": "execute_result"
    }
   ],
   "source": [
    "#Now to check the highest amount of funding for each country\n",
    "venture_by_country['raised_amount_usd'].sum().sort_values(ascending=False)"
   ]
  },
  {
   "cell_type": "code",
   "execution_count": 34,
   "metadata": {},
   "outputs": [
    {
     "data": {
      "text/plain": [
       "country_code\n",
       "USA   420,068,029,342.00\n",
       "CHN    39,338,918,773.00\n",
       "GBR    20,072,813,004.00\n",
       "IND    14,261,508,718.00\n",
       "CAN     9,482,217,668.00\n",
       "FRA     7,226,851,352.00\n",
       "ISR     6,854,350,477.00\n",
       "DEU     6,306,921,981.00\n",
       "JPN     3,167,647,127.00\n",
       "Name: raised_amount_usd, dtype: float64"
      ]
     },
     "execution_count": 34,
     "metadata": {},
     "output_type": "execute_result"
    }
   ],
   "source": [
    "#Now taking only the top9 countries \n",
    "venture_by_country['raised_amount_usd'].sum().sort_values(ascending=False).head(9)"
   ]
  },
  {
   "cell_type": "markdown",
   "metadata": {},
   "source": [
    "Now filtering the data with top9 countries only"
   ]
  },
  {
   "cell_type": "code",
   "execution_count": 35,
   "metadata": {},
   "outputs": [],
   "source": [
    "top9 = venture_df[venture_df['country_code'].isin(['USA','CHN','GBR','IND','CAN','FRA','ISR','DEU','JPN'])]"
   ]
  },
  {
   "cell_type": "markdown",
   "metadata": {},
   "source": [
    "Manually checking that which country has its official language as0 english from wikepedia\n",
    "\n",
    "Wikipage URL: https://en.wikipedia.org/wiki/List_of_countries_and_territories_where_English_is_an_official_language"
   ]
  },
  {
   "cell_type": "markdown",
   "metadata": {},
   "source": [
    "USA - YES\n",
    "\n",
    "CHN - NO\n",
    "\n",
    "GBR - YES\n",
    "\n",
    "IND - YES\n",
    "\n",
    "CAN - YES\n",
    "\n",
    "FRA - NO\n",
    "\n",
    "ISR - NO\n",
    "\n",
    "DEU - NO\n",
    "\n",
    "JPN - NO"
   ]
  },
  {
   "cell_type": "markdown",
   "metadata": {},
   "source": [
    "##### So from this analysis I can answer all the questions in Table 3.1"
   ]
  },
  {
   "cell_type": "markdown",
   "metadata": {},
   "source": [
    "Quest.1: Top English speaking country\n",
    "\n",
    "Ans.: USA (United States of America) "
   ]
  },
  {
   "cell_type": "markdown",
   "metadata": {},
   "source": [
    "Quest.2: Second English speaking country\n",
    "\n",
    "Ans.: GBR (United Kingdom)"
   ]
  },
  {
   "cell_type": "markdown",
   "metadata": {},
   "source": [
    "Quest.3: Third English speaking country\n",
    "\n",
    "Ans.: IND (India)"
   ]
  },
  {
   "cell_type": "markdown",
   "metadata": {},
   "source": [
    "## Sector Analysis"
   ]
  },
  {
   "cell_type": "code",
   "execution_count": 36,
   "metadata": {},
   "outputs": [],
   "source": [
    "#Loading the mapping dataset\n",
    "mapping = pd.read_csv(r'C:\\Users\\SDS\\Downloads\\Investment assignment\\mapping.csv')"
   ]
  },
  {
   "cell_type": "code",
   "execution_count": 37,
   "metadata": {},
   "outputs": [
    {
     "data": {
      "text/html": [
       "<div>\n",
       "<style scoped>\n",
       "    .dataframe tbody tr th:only-of-type {\n",
       "        vertical-align: middle;\n",
       "    }\n",
       "\n",
       "    .dataframe tbody tr th {\n",
       "        vertical-align: top;\n",
       "    }\n",
       "\n",
       "    .dataframe thead th {\n",
       "        text-align: right;\n",
       "    }\n",
       "</style>\n",
       "<table border=\"1\" class=\"dataframe\">\n",
       "  <thead>\n",
       "    <tr style=\"text-align: right;\">\n",
       "      <th></th>\n",
       "      <th>category_list</th>\n",
       "      <th>Automotive &amp; Sports</th>\n",
       "      <th>Blanks</th>\n",
       "      <th>Cleantech / Semiconductors</th>\n",
       "      <th>Entertainment</th>\n",
       "      <th>Health</th>\n",
       "      <th>Manufacturing</th>\n",
       "      <th>News, Search and Messaging</th>\n",
       "      <th>Others</th>\n",
       "      <th>Social, Finance, Analytics, Advertising</th>\n",
       "    </tr>\n",
       "  </thead>\n",
       "  <tbody>\n",
       "    <tr>\n",
       "      <th>0</th>\n",
       "      <td>NaN</td>\n",
       "      <td>0</td>\n",
       "      <td>1</td>\n",
       "      <td>0</td>\n",
       "      <td>0</td>\n",
       "      <td>0</td>\n",
       "      <td>0</td>\n",
       "      <td>0</td>\n",
       "      <td>0</td>\n",
       "      <td>0</td>\n",
       "    </tr>\n",
       "    <tr>\n",
       "      <th>1</th>\n",
       "      <td>3D</td>\n",
       "      <td>0</td>\n",
       "      <td>0</td>\n",
       "      <td>0</td>\n",
       "      <td>0</td>\n",
       "      <td>0</td>\n",
       "      <td>1</td>\n",
       "      <td>0</td>\n",
       "      <td>0</td>\n",
       "      <td>0</td>\n",
       "    </tr>\n",
       "    <tr>\n",
       "      <th>2</th>\n",
       "      <td>3D Printing</td>\n",
       "      <td>0</td>\n",
       "      <td>0</td>\n",
       "      <td>0</td>\n",
       "      <td>0</td>\n",
       "      <td>0</td>\n",
       "      <td>1</td>\n",
       "      <td>0</td>\n",
       "      <td>0</td>\n",
       "      <td>0</td>\n",
       "    </tr>\n",
       "    <tr>\n",
       "      <th>3</th>\n",
       "      <td>3D Technology</td>\n",
       "      <td>0</td>\n",
       "      <td>0</td>\n",
       "      <td>0</td>\n",
       "      <td>0</td>\n",
       "      <td>0</td>\n",
       "      <td>1</td>\n",
       "      <td>0</td>\n",
       "      <td>0</td>\n",
       "      <td>0</td>\n",
       "    </tr>\n",
       "    <tr>\n",
       "      <th>4</th>\n",
       "      <td>Accounting</td>\n",
       "      <td>0</td>\n",
       "      <td>0</td>\n",
       "      <td>0</td>\n",
       "      <td>0</td>\n",
       "      <td>0</td>\n",
       "      <td>0</td>\n",
       "      <td>0</td>\n",
       "      <td>0</td>\n",
       "      <td>1</td>\n",
       "    </tr>\n",
       "  </tbody>\n",
       "</table>\n",
       "</div>"
      ],
      "text/plain": [
       "   category_list  Automotive & Sports  Blanks  Cleantech / Semiconductors  \\\n",
       "0            NaN                    0       1                           0   \n",
       "1             3D                    0       0                           0   \n",
       "2    3D Printing                    0       0                           0   \n",
       "3  3D Technology                    0       0                           0   \n",
       "4     Accounting                    0       0                           0   \n",
       "\n",
       "   Entertainment  Health  Manufacturing  News, Search and Messaging  Others  \\\n",
       "0              0       0              0                           0       0   \n",
       "1              0       0              1                           0       0   \n",
       "2              0       0              1                           0       0   \n",
       "3              0       0              1                           0       0   \n",
       "4              0       0              0                           0       0   \n",
       "\n",
       "   Social, Finance, Analytics, Advertising  \n",
       "0                                        0  \n",
       "1                                        0  \n",
       "2                                        0  \n",
       "3                                        0  \n",
       "4                                        1  "
      ]
     },
     "execution_count": 37,
     "metadata": {},
     "output_type": "execute_result"
    }
   ],
   "source": [
    "mapping.head()"
   ]
  },
  {
   "cell_type": "markdown",
   "metadata": {},
   "source": [
    "For analysis we remove the null rows from the mapping dataframe"
   ]
  },
  {
   "cell_type": "code",
   "execution_count": 38,
   "metadata": {},
   "outputs": [],
   "source": [
    "mapping = mapping[~mapping.category_list.isnull()]"
   ]
  },
  {
   "cell_type": "code",
   "execution_count": 39,
   "metadata": {},
   "outputs": [
    {
     "data": {
      "text/html": [
       "<div>\n",
       "<style scoped>\n",
       "    .dataframe tbody tr th:only-of-type {\n",
       "        vertical-align: middle;\n",
       "    }\n",
       "\n",
       "    .dataframe tbody tr th {\n",
       "        vertical-align: top;\n",
       "    }\n",
       "\n",
       "    .dataframe thead th {\n",
       "        text-align: right;\n",
       "    }\n",
       "</style>\n",
       "<table border=\"1\" class=\"dataframe\">\n",
       "  <thead>\n",
       "    <tr style=\"text-align: right;\">\n",
       "      <th></th>\n",
       "      <th>category_list</th>\n",
       "      <th>Automotive &amp; Sports</th>\n",
       "      <th>Blanks</th>\n",
       "      <th>Cleantech / Semiconductors</th>\n",
       "      <th>Entertainment</th>\n",
       "      <th>Health</th>\n",
       "      <th>Manufacturing</th>\n",
       "      <th>News, Search and Messaging</th>\n",
       "      <th>Others</th>\n",
       "      <th>Social, Finance, Analytics, Advertising</th>\n",
       "    </tr>\n",
       "  </thead>\n",
       "  <tbody>\n",
       "    <tr>\n",
       "      <th>1</th>\n",
       "      <td>3D</td>\n",
       "      <td>0</td>\n",
       "      <td>0</td>\n",
       "      <td>0</td>\n",
       "      <td>0</td>\n",
       "      <td>0</td>\n",
       "      <td>1</td>\n",
       "      <td>0</td>\n",
       "      <td>0</td>\n",
       "      <td>0</td>\n",
       "    </tr>\n",
       "    <tr>\n",
       "      <th>2</th>\n",
       "      <td>3D Printing</td>\n",
       "      <td>0</td>\n",
       "      <td>0</td>\n",
       "      <td>0</td>\n",
       "      <td>0</td>\n",
       "      <td>0</td>\n",
       "      <td>1</td>\n",
       "      <td>0</td>\n",
       "      <td>0</td>\n",
       "      <td>0</td>\n",
       "    </tr>\n",
       "    <tr>\n",
       "      <th>3</th>\n",
       "      <td>3D Technology</td>\n",
       "      <td>0</td>\n",
       "      <td>0</td>\n",
       "      <td>0</td>\n",
       "      <td>0</td>\n",
       "      <td>0</td>\n",
       "      <td>1</td>\n",
       "      <td>0</td>\n",
       "      <td>0</td>\n",
       "      <td>0</td>\n",
       "    </tr>\n",
       "    <tr>\n",
       "      <th>4</th>\n",
       "      <td>Accounting</td>\n",
       "      <td>0</td>\n",
       "      <td>0</td>\n",
       "      <td>0</td>\n",
       "      <td>0</td>\n",
       "      <td>0</td>\n",
       "      <td>0</td>\n",
       "      <td>0</td>\n",
       "      <td>0</td>\n",
       "      <td>1</td>\n",
       "    </tr>\n",
       "    <tr>\n",
       "      <th>5</th>\n",
       "      <td>Active Lifestyle</td>\n",
       "      <td>0</td>\n",
       "      <td>0</td>\n",
       "      <td>0</td>\n",
       "      <td>0</td>\n",
       "      <td>1</td>\n",
       "      <td>0</td>\n",
       "      <td>0</td>\n",
       "      <td>0</td>\n",
       "      <td>0</td>\n",
       "    </tr>\n",
       "  </tbody>\n",
       "</table>\n",
       "</div>"
      ],
      "text/plain": [
       "      category_list  Automotive & Sports  Blanks  Cleantech / Semiconductors  \\\n",
       "1                3D                    0       0                           0   \n",
       "2       3D Printing                    0       0                           0   \n",
       "3     3D Technology                    0       0                           0   \n",
       "4        Accounting                    0       0                           0   \n",
       "5  Active Lifestyle                    0       0                           0   \n",
       "\n",
       "   Entertainment  Health  Manufacturing  News, Search and Messaging  Others  \\\n",
       "1              0       0              1                           0       0   \n",
       "2              0       0              1                           0       0   \n",
       "3              0       0              1                           0       0   \n",
       "4              0       0              0                           0       0   \n",
       "5              0       1              0                           0       0   \n",
       "\n",
       "   Social, Finance, Analytics, Advertising  \n",
       "1                                        0  \n",
       "2                                        0  \n",
       "3                                        0  \n",
       "4                                        1  \n",
       "5                                        0  "
      ]
     },
     "execution_count": 39,
     "metadata": {},
     "output_type": "execute_result"
    }
   ],
   "source": [
    "mapping.head()"
   ]
  },
  {
   "cell_type": "markdown",
   "metadata": {},
   "source": [
    "Writing a custom function to correct category_list column of the mapping file."
   ]
  },
  {
   "cell_type": "code",
   "execution_count": 40,
   "metadata": {},
   "outputs": [],
   "source": [
    "#function to correct the mapping data. It can be observed from the above data that at many palces na is misprinted as 0\n",
    "# Example: Analytics is written as A0lytics\n",
    "def correct_mapping(category):\n",
    "    if '0' in category:\n",
    "        if category.startswith('0'):  # Handle 0notechnology case with NA\n",
    "            return category[:category.find('0')]+'Na'+category[category.find('0')+1:]\n",
    "        elif category.endswith('0'):  #ignores the 2.0 case with 0 at the end \n",
    "            return category\n",
    "        else:\n",
    "            return category[:category.find('0')]+'na'+category[category.find('0')+1:]\n",
    "    else:\n",
    "        return category"
   ]
  },
  {
   "cell_type": "markdown",
   "metadata": {},
   "source": [
    "Calling the custom function correct_mapping to correct the category_list column in the mapping dataset"
   ]
  },
  {
   "cell_type": "code",
   "execution_count": 41,
   "metadata": {},
   "outputs": [],
   "source": [
    "mapping['category_list'] = list(map(correct_mapping,mapping['category_list']))"
   ]
  },
  {
   "cell_type": "code",
   "execution_count": 42,
   "metadata": {},
   "outputs": [
    {
     "data": {
      "text/html": [
       "<div>\n",
       "<style scoped>\n",
       "    .dataframe tbody tr th:only-of-type {\n",
       "        vertical-align: middle;\n",
       "    }\n",
       "\n",
       "    .dataframe tbody tr th {\n",
       "        vertical-align: top;\n",
       "    }\n",
       "\n",
       "    .dataframe thead th {\n",
       "        text-align: right;\n",
       "    }\n",
       "</style>\n",
       "<table border=\"1\" class=\"dataframe\">\n",
       "  <thead>\n",
       "    <tr style=\"text-align: right;\">\n",
       "      <th></th>\n",
       "      <th>category_list</th>\n",
       "      <th>Automotive &amp; Sports</th>\n",
       "      <th>Blanks</th>\n",
       "      <th>Cleantech / Semiconductors</th>\n",
       "      <th>Entertainment</th>\n",
       "      <th>Health</th>\n",
       "      <th>Manufacturing</th>\n",
       "      <th>News, Search and Messaging</th>\n",
       "      <th>Others</th>\n",
       "      <th>Social, Finance, Analytics, Advertising</th>\n",
       "    </tr>\n",
       "  </thead>\n",
       "  <tbody>\n",
       "    <tr>\n",
       "      <th>1</th>\n",
       "      <td>3D</td>\n",
       "      <td>0</td>\n",
       "      <td>0</td>\n",
       "      <td>0</td>\n",
       "      <td>0</td>\n",
       "      <td>0</td>\n",
       "      <td>1</td>\n",
       "      <td>0</td>\n",
       "      <td>0</td>\n",
       "      <td>0</td>\n",
       "    </tr>\n",
       "    <tr>\n",
       "      <th>2</th>\n",
       "      <td>3D Printing</td>\n",
       "      <td>0</td>\n",
       "      <td>0</td>\n",
       "      <td>0</td>\n",
       "      <td>0</td>\n",
       "      <td>0</td>\n",
       "      <td>1</td>\n",
       "      <td>0</td>\n",
       "      <td>0</td>\n",
       "      <td>0</td>\n",
       "    </tr>\n",
       "    <tr>\n",
       "      <th>3</th>\n",
       "      <td>3D Technology</td>\n",
       "      <td>0</td>\n",
       "      <td>0</td>\n",
       "      <td>0</td>\n",
       "      <td>0</td>\n",
       "      <td>0</td>\n",
       "      <td>1</td>\n",
       "      <td>0</td>\n",
       "      <td>0</td>\n",
       "      <td>0</td>\n",
       "    </tr>\n",
       "    <tr>\n",
       "      <th>4</th>\n",
       "      <td>Accounting</td>\n",
       "      <td>0</td>\n",
       "      <td>0</td>\n",
       "      <td>0</td>\n",
       "      <td>0</td>\n",
       "      <td>0</td>\n",
       "      <td>0</td>\n",
       "      <td>0</td>\n",
       "      <td>0</td>\n",
       "      <td>1</td>\n",
       "    </tr>\n",
       "    <tr>\n",
       "      <th>5</th>\n",
       "      <td>Active Lifestyle</td>\n",
       "      <td>0</td>\n",
       "      <td>0</td>\n",
       "      <td>0</td>\n",
       "      <td>0</td>\n",
       "      <td>1</td>\n",
       "      <td>0</td>\n",
       "      <td>0</td>\n",
       "      <td>0</td>\n",
       "      <td>0</td>\n",
       "    </tr>\n",
       "    <tr>\n",
       "      <th>6</th>\n",
       "      <td>Ad Targeting</td>\n",
       "      <td>0</td>\n",
       "      <td>0</td>\n",
       "      <td>0</td>\n",
       "      <td>0</td>\n",
       "      <td>0</td>\n",
       "      <td>0</td>\n",
       "      <td>0</td>\n",
       "      <td>0</td>\n",
       "      <td>1</td>\n",
       "    </tr>\n",
       "    <tr>\n",
       "      <th>7</th>\n",
       "      <td>Advanced Materials</td>\n",
       "      <td>0</td>\n",
       "      <td>0</td>\n",
       "      <td>0</td>\n",
       "      <td>0</td>\n",
       "      <td>0</td>\n",
       "      <td>1</td>\n",
       "      <td>0</td>\n",
       "      <td>0</td>\n",
       "      <td>0</td>\n",
       "    </tr>\n",
       "    <tr>\n",
       "      <th>8</th>\n",
       "      <td>Adventure Travel</td>\n",
       "      <td>1</td>\n",
       "      <td>0</td>\n",
       "      <td>0</td>\n",
       "      <td>0</td>\n",
       "      <td>0</td>\n",
       "      <td>0</td>\n",
       "      <td>0</td>\n",
       "      <td>0</td>\n",
       "      <td>0</td>\n",
       "    </tr>\n",
       "    <tr>\n",
       "      <th>9</th>\n",
       "      <td>Advertising</td>\n",
       "      <td>0</td>\n",
       "      <td>0</td>\n",
       "      <td>0</td>\n",
       "      <td>0</td>\n",
       "      <td>0</td>\n",
       "      <td>0</td>\n",
       "      <td>0</td>\n",
       "      <td>0</td>\n",
       "      <td>1</td>\n",
       "    </tr>\n",
       "    <tr>\n",
       "      <th>10</th>\n",
       "      <td>Advertising Exchanges</td>\n",
       "      <td>0</td>\n",
       "      <td>0</td>\n",
       "      <td>0</td>\n",
       "      <td>0</td>\n",
       "      <td>0</td>\n",
       "      <td>0</td>\n",
       "      <td>0</td>\n",
       "      <td>0</td>\n",
       "      <td>1</td>\n",
       "    </tr>\n",
       "    <tr>\n",
       "      <th>11</th>\n",
       "      <td>Advertising Networks</td>\n",
       "      <td>0</td>\n",
       "      <td>0</td>\n",
       "      <td>0</td>\n",
       "      <td>0</td>\n",
       "      <td>0</td>\n",
       "      <td>0</td>\n",
       "      <td>0</td>\n",
       "      <td>0</td>\n",
       "      <td>1</td>\n",
       "    </tr>\n",
       "    <tr>\n",
       "      <th>12</th>\n",
       "      <td>Advertising Platforms</td>\n",
       "      <td>0</td>\n",
       "      <td>0</td>\n",
       "      <td>0</td>\n",
       "      <td>0</td>\n",
       "      <td>0</td>\n",
       "      <td>0</td>\n",
       "      <td>0</td>\n",
       "      <td>0</td>\n",
       "      <td>1</td>\n",
       "    </tr>\n",
       "    <tr>\n",
       "      <th>13</th>\n",
       "      <td>Advice</td>\n",
       "      <td>0</td>\n",
       "      <td>0</td>\n",
       "      <td>0</td>\n",
       "      <td>0</td>\n",
       "      <td>0</td>\n",
       "      <td>0</td>\n",
       "      <td>0</td>\n",
       "      <td>1</td>\n",
       "      <td>0</td>\n",
       "    </tr>\n",
       "    <tr>\n",
       "      <th>14</th>\n",
       "      <td>Aerospace</td>\n",
       "      <td>1</td>\n",
       "      <td>0</td>\n",
       "      <td>0</td>\n",
       "      <td>0</td>\n",
       "      <td>0</td>\n",
       "      <td>0</td>\n",
       "      <td>0</td>\n",
       "      <td>0</td>\n",
       "      <td>0</td>\n",
       "    </tr>\n",
       "    <tr>\n",
       "      <th>15</th>\n",
       "      <td>Agriculture</td>\n",
       "      <td>0</td>\n",
       "      <td>0</td>\n",
       "      <td>0</td>\n",
       "      <td>0</td>\n",
       "      <td>0</td>\n",
       "      <td>1</td>\n",
       "      <td>0</td>\n",
       "      <td>0</td>\n",
       "      <td>0</td>\n",
       "    </tr>\n",
       "    <tr>\n",
       "      <th>16</th>\n",
       "      <td>Air Pollution Control</td>\n",
       "      <td>0</td>\n",
       "      <td>0</td>\n",
       "      <td>1</td>\n",
       "      <td>0</td>\n",
       "      <td>0</td>\n",
       "      <td>0</td>\n",
       "      <td>0</td>\n",
       "      <td>0</td>\n",
       "      <td>0</td>\n",
       "    </tr>\n",
       "    <tr>\n",
       "      <th>17</th>\n",
       "      <td>Algorithms</td>\n",
       "      <td>0</td>\n",
       "      <td>0</td>\n",
       "      <td>0</td>\n",
       "      <td>0</td>\n",
       "      <td>0</td>\n",
       "      <td>0</td>\n",
       "      <td>0</td>\n",
       "      <td>1</td>\n",
       "      <td>0</td>\n",
       "    </tr>\n",
       "    <tr>\n",
       "      <th>18</th>\n",
       "      <td>All Markets</td>\n",
       "      <td>0</td>\n",
       "      <td>0</td>\n",
       "      <td>0</td>\n",
       "      <td>0</td>\n",
       "      <td>0</td>\n",
       "      <td>0</td>\n",
       "      <td>0</td>\n",
       "      <td>1</td>\n",
       "      <td>0</td>\n",
       "    </tr>\n",
       "    <tr>\n",
       "      <th>19</th>\n",
       "      <td>All Students</td>\n",
       "      <td>0</td>\n",
       "      <td>0</td>\n",
       "      <td>0</td>\n",
       "      <td>0</td>\n",
       "      <td>0</td>\n",
       "      <td>0</td>\n",
       "      <td>0</td>\n",
       "      <td>1</td>\n",
       "      <td>0</td>\n",
       "    </tr>\n",
       "    <tr>\n",
       "      <th>20</th>\n",
       "      <td>Alternative Medicine</td>\n",
       "      <td>0</td>\n",
       "      <td>0</td>\n",
       "      <td>0</td>\n",
       "      <td>0</td>\n",
       "      <td>1</td>\n",
       "      <td>0</td>\n",
       "      <td>0</td>\n",
       "      <td>0</td>\n",
       "      <td>0</td>\n",
       "    </tr>\n",
       "    <tr>\n",
       "      <th>21</th>\n",
       "      <td>Alumni</td>\n",
       "      <td>0</td>\n",
       "      <td>0</td>\n",
       "      <td>0</td>\n",
       "      <td>0</td>\n",
       "      <td>0</td>\n",
       "      <td>0</td>\n",
       "      <td>0</td>\n",
       "      <td>1</td>\n",
       "      <td>0</td>\n",
       "    </tr>\n",
       "    <tr>\n",
       "      <th>22</th>\n",
       "      <td>Analytics</td>\n",
       "      <td>0</td>\n",
       "      <td>0</td>\n",
       "      <td>0</td>\n",
       "      <td>0</td>\n",
       "      <td>0</td>\n",
       "      <td>0</td>\n",
       "      <td>0</td>\n",
       "      <td>0</td>\n",
       "      <td>1</td>\n",
       "    </tr>\n",
       "  </tbody>\n",
       "</table>\n",
       "</div>"
      ],
      "text/plain": [
       "            category_list  Automotive & Sports  Blanks  \\\n",
       "1                      3D                    0       0   \n",
       "2             3D Printing                    0       0   \n",
       "3           3D Technology                    0       0   \n",
       "4              Accounting                    0       0   \n",
       "5        Active Lifestyle                    0       0   \n",
       "6            Ad Targeting                    0       0   \n",
       "7      Advanced Materials                    0       0   \n",
       "8        Adventure Travel                    1       0   \n",
       "9             Advertising                    0       0   \n",
       "10  Advertising Exchanges                    0       0   \n",
       "11   Advertising Networks                    0       0   \n",
       "12  Advertising Platforms                    0       0   \n",
       "13                 Advice                    0       0   \n",
       "14              Aerospace                    1       0   \n",
       "15            Agriculture                    0       0   \n",
       "16  Air Pollution Control                    0       0   \n",
       "17             Algorithms                    0       0   \n",
       "18            All Markets                    0       0   \n",
       "19           All Students                    0       0   \n",
       "20   Alternative Medicine                    0       0   \n",
       "21                 Alumni                    0       0   \n",
       "22              Analytics                    0       0   \n",
       "\n",
       "    Cleantech / Semiconductors  Entertainment  Health  Manufacturing  \\\n",
       "1                            0              0       0              1   \n",
       "2                            0              0       0              1   \n",
       "3                            0              0       0              1   \n",
       "4                            0              0       0              0   \n",
       "5                            0              0       1              0   \n",
       "6                            0              0       0              0   \n",
       "7                            0              0       0              1   \n",
       "8                            0              0       0              0   \n",
       "9                            0              0       0              0   \n",
       "10                           0              0       0              0   \n",
       "11                           0              0       0              0   \n",
       "12                           0              0       0              0   \n",
       "13                           0              0       0              0   \n",
       "14                           0              0       0              0   \n",
       "15                           0              0       0              1   \n",
       "16                           1              0       0              0   \n",
       "17                           0              0       0              0   \n",
       "18                           0              0       0              0   \n",
       "19                           0              0       0              0   \n",
       "20                           0              0       1              0   \n",
       "21                           0              0       0              0   \n",
       "22                           0              0       0              0   \n",
       "\n",
       "    News, Search and Messaging  Others  \\\n",
       "1                            0       0   \n",
       "2                            0       0   \n",
       "3                            0       0   \n",
       "4                            0       0   \n",
       "5                            0       0   \n",
       "6                            0       0   \n",
       "7                            0       0   \n",
       "8                            0       0   \n",
       "9                            0       0   \n",
       "10                           0       0   \n",
       "11                           0       0   \n",
       "12                           0       0   \n",
       "13                           0       1   \n",
       "14                           0       0   \n",
       "15                           0       0   \n",
       "16                           0       0   \n",
       "17                           0       1   \n",
       "18                           0       1   \n",
       "19                           0       1   \n",
       "20                           0       0   \n",
       "21                           0       1   \n",
       "22                           0       0   \n",
       "\n",
       "    Social, Finance, Analytics, Advertising  \n",
       "1                                         0  \n",
       "2                                         0  \n",
       "3                                         0  \n",
       "4                                         1  \n",
       "5                                         0  \n",
       "6                                         1  \n",
       "7                                         0  \n",
       "8                                         0  \n",
       "9                                         1  \n",
       "10                                        1  \n",
       "11                                        1  \n",
       "12                                        1  \n",
       "13                                        0  \n",
       "14                                        0  \n",
       "15                                        0  \n",
       "16                                        0  \n",
       "17                                        0  \n",
       "18                                        0  \n",
       "19                                        0  \n",
       "20                                        0  \n",
       "21                                        0  \n",
       "22                                        1  "
      ]
     },
     "execution_count": 42,
     "metadata": {},
     "output_type": "execute_result"
    }
   ],
   "source": [
    "# to check whether the custom function is working fine or not\n",
    "mapping.head(22)"
   ]
  },
  {
   "cell_type": "markdown",
   "metadata": {},
   "source": [
    "Mapping the category_list in the top9 dataframe to the main_sector in the mapping file. Before merging these two dataframes creating a new column main_sector in the mapping dataframe to get the main sectore name of each category."
   ]
  },
  {
   "cell_type": "code",
   "execution_count": 43,
   "metadata": {},
   "outputs": [],
   "source": [
    "m = pd.melt(mapping, id_vars = ['category_list'], var_name = ['main_sector'])"
   ]
  },
  {
   "cell_type": "code",
   "execution_count": 44,
   "metadata": {},
   "outputs": [],
   "source": [
    "m = m[m.value==1]"
   ]
  },
  {
   "cell_type": "code",
   "execution_count": 45,
   "metadata": {},
   "outputs": [],
   "source": [
    "m = m.drop('value',axis=1)"
   ]
  },
  {
   "cell_type": "code",
   "execution_count": 46,
   "metadata": {},
   "outputs": [
    {
     "data": {
      "text/html": [
       "<div>\n",
       "<style scoped>\n",
       "    .dataframe tbody tr th:only-of-type {\n",
       "        vertical-align: middle;\n",
       "    }\n",
       "\n",
       "    .dataframe tbody tr th {\n",
       "        vertical-align: top;\n",
       "    }\n",
       "\n",
       "    .dataframe thead th {\n",
       "        text-align: right;\n",
       "    }\n",
       "</style>\n",
       "<table border=\"1\" class=\"dataframe\">\n",
       "  <thead>\n",
       "    <tr style=\"text-align: right;\">\n",
       "      <th></th>\n",
       "      <th>category_list</th>\n",
       "      <th>main_sector</th>\n",
       "    </tr>\n",
       "  </thead>\n",
       "  <tbody>\n",
       "    <tr>\n",
       "      <th>7</th>\n",
       "      <td>Adventure Travel</td>\n",
       "      <td>Automotive &amp; Sports</td>\n",
       "    </tr>\n",
       "    <tr>\n",
       "      <th>13</th>\n",
       "      <td>Aerospace</td>\n",
       "      <td>Automotive &amp; Sports</td>\n",
       "    </tr>\n",
       "    <tr>\n",
       "      <th>44</th>\n",
       "      <td>Auto</td>\n",
       "      <td>Automotive &amp; Sports</td>\n",
       "    </tr>\n",
       "    <tr>\n",
       "      <th>45</th>\n",
       "      <td>Automated Kiosk</td>\n",
       "      <td>Automotive &amp; Sports</td>\n",
       "    </tr>\n",
       "    <tr>\n",
       "      <th>46</th>\n",
       "      <td>Automotive</td>\n",
       "      <td>Automotive &amp; Sports</td>\n",
       "    </tr>\n",
       "    <tr>\n",
       "      <th>...</th>\n",
       "      <td>...</td>\n",
       "      <td>...</td>\n",
       "    </tr>\n",
       "    <tr>\n",
       "      <th>6112</th>\n",
       "      <td>Social Recruiting</td>\n",
       "      <td>Social, Finance, Analytics, Advertising</td>\n",
       "    </tr>\n",
       "    <tr>\n",
       "      <th>6113</th>\n",
       "      <td>Social Television</td>\n",
       "      <td>Social, Finance, Analytics, Advertising</td>\n",
       "    </tr>\n",
       "    <tr>\n",
       "      <th>6114</th>\n",
       "      <td>Social Travel</td>\n",
       "      <td>Social, Finance, Analytics, Advertising</td>\n",
       "    </tr>\n",
       "    <tr>\n",
       "      <th>6125</th>\n",
       "      <td>Stock Exchanges</td>\n",
       "      <td>Social, Finance, Analytics, Advertising</td>\n",
       "    </tr>\n",
       "    <tr>\n",
       "      <th>6158</th>\n",
       "      <td>Venture Capital</td>\n",
       "      <td>Social, Finance, Analytics, Advertising</td>\n",
       "    </tr>\n",
       "  </tbody>\n",
       "</table>\n",
       "<p>687 rows × 2 columns</p>\n",
       "</div>"
      ],
      "text/plain": [
       "          category_list                              main_sector\n",
       "7      Adventure Travel                      Automotive & Sports\n",
       "13            Aerospace                      Automotive & Sports\n",
       "44                 Auto                      Automotive & Sports\n",
       "45      Automated Kiosk                      Automotive & Sports\n",
       "46           Automotive                      Automotive & Sports\n",
       "...                 ...                                      ...\n",
       "6112  Social Recruiting  Social, Finance, Analytics, Advertising\n",
       "6113  Social Television  Social, Finance, Analytics, Advertising\n",
       "6114      Social Travel  Social, Finance, Analytics, Advertising\n",
       "6125    Stock Exchanges  Social, Finance, Analytics, Advertising\n",
       "6158    Venture Capital  Social, Finance, Analytics, Advertising\n",
       "\n",
       "[687 rows x 2 columns]"
      ]
     },
     "execution_count": 46,
     "metadata": {},
     "output_type": "execute_result"
    }
   ],
   "source": [
    "m"
   ]
  },
  {
   "cell_type": "code",
   "execution_count": 47,
   "metadata": {},
   "outputs": [
    {
     "data": {
      "text/plain": [
       "(687, 2)"
      ]
     },
     "execution_count": 47,
     "metadata": {},
     "output_type": "execute_result"
    }
   ],
   "source": [
    "m.shape"
   ]
  },
  {
   "cell_type": "code",
   "execution_count": 48,
   "metadata": {},
   "outputs": [
    {
     "data": {
      "text/plain": [
       "category_list    0\n",
       "main_sector      0\n",
       "dtype: int64"
      ]
     },
     "execution_count": 48,
     "metadata": {},
     "output_type": "execute_result"
    }
   ],
   "source": [
    "m.isnull().sum()"
   ]
  },
  {
   "cell_type": "markdown",
   "metadata": {},
   "source": [
    "Now For some companies, the category list is a list of multiple sub-sectors separated by a pipe (vertical bar |). For example, one of the companies’ category_list is Application Platforms|Real Time|Social Network Media.\n",
    "\n",
    "\n",
    "After discussing with the CEO and come up with the business rule that the first string before the vertical bar will be considered the primary sector. In the example above, ‘Application Platforms’ will be considered the primary sector.\n",
    "Creating a new column primary_sector to store this information in the Dataframe."
   ]
  },
  {
   "cell_type": "code",
   "execution_count": 49,
   "metadata": {},
   "outputs": [],
   "source": [
    "top9['primary_sector'] = top9['category_list'].astype(str).apply(lambda x: x.split('|')[0])"
   ]
  },
  {
   "cell_type": "code",
   "execution_count": 50,
   "metadata": {},
   "outputs": [
    {
     "data": {
      "text/plain": [
       "(44118, 14)"
      ]
     },
     "execution_count": 50,
     "metadata": {},
     "output_type": "execute_result"
    }
   ],
   "source": [
    "top9.shape"
   ]
  },
  {
   "cell_type": "code",
   "execution_count": 51,
   "metadata": {},
   "outputs": [
    {
     "data": {
      "text/html": [
       "<div>\n",
       "<style scoped>\n",
       "    .dataframe tbody tr th:only-of-type {\n",
       "        vertical-align: middle;\n",
       "    }\n",
       "\n",
       "    .dataframe tbody tr th {\n",
       "        vertical-align: top;\n",
       "    }\n",
       "\n",
       "    .dataframe thead th {\n",
       "        text-align: right;\n",
       "    }\n",
       "</style>\n",
       "<table border=\"1\" class=\"dataframe\">\n",
       "  <thead>\n",
       "    <tr style=\"text-align: right;\">\n",
       "      <th></th>\n",
       "      <th>company_permalink</th>\n",
       "      <th>funding_round_permalink</th>\n",
       "      <th>funding_round_type</th>\n",
       "      <th>funded_at</th>\n",
       "      <th>raised_amount_usd</th>\n",
       "      <th>permalink</th>\n",
       "      <th>name</th>\n",
       "      <th>category_list</th>\n",
       "      <th>status</th>\n",
       "      <th>country_code</th>\n",
       "      <th>state_code</th>\n",
       "      <th>region</th>\n",
       "      <th>city</th>\n",
       "      <th>primary_sector</th>\n",
       "    </tr>\n",
       "  </thead>\n",
       "  <tbody>\n",
       "    <tr>\n",
       "      <th>0</th>\n",
       "      <td>/organization/-fame</td>\n",
       "      <td>/funding-round/9a01d05418af9f794eebff7ace91f638</td>\n",
       "      <td>venture</td>\n",
       "      <td>05-01-2015</td>\n",
       "      <td>10,000,000.00</td>\n",
       "      <td>/organization/-fame</td>\n",
       "      <td>#fame</td>\n",
       "      <td>Media</td>\n",
       "      <td>operating</td>\n",
       "      <td>IND</td>\n",
       "      <td>16</td>\n",
       "      <td>Mumbai</td>\n",
       "      <td>Mumbai</td>\n",
       "      <td>Media</td>\n",
       "    </tr>\n",
       "    <tr>\n",
       "      <th>4</th>\n",
       "      <td>/organization/0-6-com</td>\n",
       "      <td>/funding-round/5727accaeaa57461bd22a9bdd945382d</td>\n",
       "      <td>venture</td>\n",
       "      <td>19-03-2008</td>\n",
       "      <td>2,000,000.00</td>\n",
       "      <td>/organization/0-6-com</td>\n",
       "      <td>0-6.com</td>\n",
       "      <td>Curated Web</td>\n",
       "      <td>operating</td>\n",
       "      <td>CHN</td>\n",
       "      <td>22</td>\n",
       "      <td>Beijing</td>\n",
       "      <td>Beijing</td>\n",
       "      <td>Curated Web</td>\n",
       "    </tr>\n",
       "    <tr>\n",
       "      <th>8</th>\n",
       "      <td>/organization/0ndine-biomedical-inc</td>\n",
       "      <td>/funding-round/954b9499724b946ad8c396a57a5f3b72</td>\n",
       "      <td>venture</td>\n",
       "      <td>21-12-2009</td>\n",
       "      <td>719,491.00</td>\n",
       "      <td>/organization/0ndine-biomedical-inc</td>\n",
       "      <td>Ondine Biomedical Inc.</td>\n",
       "      <td>Biotechnology</td>\n",
       "      <td>operating</td>\n",
       "      <td>CAN</td>\n",
       "      <td>BC</td>\n",
       "      <td>Vancouver</td>\n",
       "      <td>Vancouver</td>\n",
       "      <td>Biotechnology</td>\n",
       "    </tr>\n",
       "    <tr>\n",
       "      <th>10</th>\n",
       "      <td>/organization/0xdata</td>\n",
       "      <td>/funding-round/3bb2ee4a2d89251a10aaa735b1180e44</td>\n",
       "      <td>venture</td>\n",
       "      <td>09-11-2015</td>\n",
       "      <td>20,000,000.00</td>\n",
       "      <td>/organization/0xdata</td>\n",
       "      <td>H2O.ai</td>\n",
       "      <td>Analytics</td>\n",
       "      <td>operating</td>\n",
       "      <td>USA</td>\n",
       "      <td>CA</td>\n",
       "      <td>SF Bay Area</td>\n",
       "      <td>Mountain View</td>\n",
       "      <td>Analytics</td>\n",
       "    </tr>\n",
       "    <tr>\n",
       "      <th>11</th>\n",
       "      <td>/organization/0xdata</td>\n",
       "      <td>/funding-round/ae2a174c06517c2394aed45006322a7e</td>\n",
       "      <td>venture</td>\n",
       "      <td>03-01-2013</td>\n",
       "      <td>1,700,000.00</td>\n",
       "      <td>/organization/0xdata</td>\n",
       "      <td>H2O.ai</td>\n",
       "      <td>Analytics</td>\n",
       "      <td>operating</td>\n",
       "      <td>USA</td>\n",
       "      <td>CA</td>\n",
       "      <td>SF Bay Area</td>\n",
       "      <td>Mountain View</td>\n",
       "      <td>Analytics</td>\n",
       "    </tr>\n",
       "    <tr>\n",
       "      <th>...</th>\n",
       "      <td>...</td>\n",
       "      <td>...</td>\n",
       "      <td>...</td>\n",
       "      <td>...</td>\n",
       "      <td>...</td>\n",
       "      <td>...</td>\n",
       "      <td>...</td>\n",
       "      <td>...</td>\n",
       "      <td>...</td>\n",
       "      <td>...</td>\n",
       "      <td>...</td>\n",
       "      <td>...</td>\n",
       "      <td>...</td>\n",
       "      <td>...</td>\n",
       "    </tr>\n",
       "    <tr>\n",
       "      <th>114922</th>\n",
       "      <td>/organization/zyomyx-inc</td>\n",
       "      <td>/funding-round/b4fce7f8a13267353d57db09099800e8</td>\n",
       "      <td>venture</td>\n",
       "      <td>11-07-2013</td>\n",
       "      <td>14,219,999.00</td>\n",
       "      <td>/organization/zyomyx-inc</td>\n",
       "      <td>ZYOMYX</td>\n",
       "      <td>Biotechnology</td>\n",
       "      <td>operating</td>\n",
       "      <td>USA</td>\n",
       "      <td>MO</td>\n",
       "      <td>MO - Other</td>\n",
       "      <td>Fremont</td>\n",
       "      <td>Biotechnology</td>\n",
       "    </tr>\n",
       "    <tr>\n",
       "      <th>114923</th>\n",
       "      <td>/organization/zyomyx-inc</td>\n",
       "      <td>/funding-round/ea5b21da6cf999ff4d5667431fe318d7</td>\n",
       "      <td>venture</td>\n",
       "      <td>29-01-2010</td>\n",
       "      <td>555,016.00</td>\n",
       "      <td>/organization/zyomyx-inc</td>\n",
       "      <td>ZYOMYX</td>\n",
       "      <td>Biotechnology</td>\n",
       "      <td>operating</td>\n",
       "      <td>USA</td>\n",
       "      <td>MO</td>\n",
       "      <td>MO - Other</td>\n",
       "      <td>Fremont</td>\n",
       "      <td>Biotechnology</td>\n",
       "    </tr>\n",
       "    <tr>\n",
       "      <th>114934</th>\n",
       "      <td>/organization/zyrra</td>\n",
       "      <td>/funding-round/7a0fa791c96c9c447ee54662395beab9</td>\n",
       "      <td>venture</td>\n",
       "      <td>18-10-2012</td>\n",
       "      <td>140,500.00</td>\n",
       "      <td>/organization/zyrra</td>\n",
       "      <td>Zyrra</td>\n",
       "      <td>E-Commerce</td>\n",
       "      <td>operating</td>\n",
       "      <td>USA</td>\n",
       "      <td>MA</td>\n",
       "      <td>Boston</td>\n",
       "      <td>Cambridge</td>\n",
       "      <td>E-Commerce</td>\n",
       "    </tr>\n",
       "    <tr>\n",
       "      <th>114936</th>\n",
       "      <td>/organization/zystor</td>\n",
       "      <td>/funding-round/7ea37c0ff4132b084832039a9380d34e</td>\n",
       "      <td>venture</td>\n",
       "      <td>16-12-2004</td>\n",
       "      <td>8,500,000.00</td>\n",
       "      <td>/organization/zystor</td>\n",
       "      <td>Zystor</td>\n",
       "      <td>Biotechnology</td>\n",
       "      <td>acquired</td>\n",
       "      <td>USA</td>\n",
       "      <td>WI</td>\n",
       "      <td>Milwaukee</td>\n",
       "      <td>Milwaukee</td>\n",
       "      <td>Biotechnology</td>\n",
       "    </tr>\n",
       "    <tr>\n",
       "      <th>114941</th>\n",
       "      <td>/organization/zznode-science-and-technology-co...</td>\n",
       "      <td>/funding-round/171693e1e07e0230defd8fddb6de4515</td>\n",
       "      <td>venture</td>\n",
       "      <td>01-04-2012</td>\n",
       "      <td>1,587,301.00</td>\n",
       "      <td>/organization/zznode-science-and-technology-co...</td>\n",
       "      <td>ZZNode Science and Technology</td>\n",
       "      <td>Enterprise Software</td>\n",
       "      <td>operating</td>\n",
       "      <td>CHN</td>\n",
       "      <td>22</td>\n",
       "      <td>Beijing</td>\n",
       "      <td>Beijing</td>\n",
       "      <td>Enterprise Software</td>\n",
       "    </tr>\n",
       "  </tbody>\n",
       "</table>\n",
       "<p>44118 rows × 14 columns</p>\n",
       "</div>"
      ],
      "text/plain": [
       "                                        company_permalink  \\\n",
       "0                                     /organization/-fame   \n",
       "4                                   /organization/0-6-com   \n",
       "8                     /organization/0ndine-biomedical-inc   \n",
       "10                                   /organization/0xdata   \n",
       "11                                   /organization/0xdata   \n",
       "...                                                   ...   \n",
       "114922                           /organization/zyomyx-inc   \n",
       "114923                           /organization/zyomyx-inc   \n",
       "114934                                /organization/zyrra   \n",
       "114936                               /organization/zystor   \n",
       "114941  /organization/zznode-science-and-technology-co...   \n",
       "\n",
       "                                funding_round_permalink funding_round_type  \\\n",
       "0       /funding-round/9a01d05418af9f794eebff7ace91f638            venture   \n",
       "4       /funding-round/5727accaeaa57461bd22a9bdd945382d            venture   \n",
       "8       /funding-round/954b9499724b946ad8c396a57a5f3b72            venture   \n",
       "10      /funding-round/3bb2ee4a2d89251a10aaa735b1180e44            venture   \n",
       "11      /funding-round/ae2a174c06517c2394aed45006322a7e            venture   \n",
       "...                                                 ...                ...   \n",
       "114922  /funding-round/b4fce7f8a13267353d57db09099800e8            venture   \n",
       "114923  /funding-round/ea5b21da6cf999ff4d5667431fe318d7            venture   \n",
       "114934  /funding-round/7a0fa791c96c9c447ee54662395beab9            venture   \n",
       "114936  /funding-round/7ea37c0ff4132b084832039a9380d34e            venture   \n",
       "114941  /funding-round/171693e1e07e0230defd8fddb6de4515            venture   \n",
       "\n",
       "         funded_at  raised_amount_usd  \\\n",
       "0       05-01-2015      10,000,000.00   \n",
       "4       19-03-2008       2,000,000.00   \n",
       "8       21-12-2009         719,491.00   \n",
       "10      09-11-2015      20,000,000.00   \n",
       "11      03-01-2013       1,700,000.00   \n",
       "...            ...                ...   \n",
       "114922  11-07-2013      14,219,999.00   \n",
       "114923  29-01-2010         555,016.00   \n",
       "114934  18-10-2012         140,500.00   \n",
       "114936  16-12-2004       8,500,000.00   \n",
       "114941  01-04-2012       1,587,301.00   \n",
       "\n",
       "                                                permalink  \\\n",
       "0                                     /organization/-fame   \n",
       "4                                   /organization/0-6-com   \n",
       "8                     /organization/0ndine-biomedical-inc   \n",
       "10                                   /organization/0xdata   \n",
       "11                                   /organization/0xdata   \n",
       "...                                                   ...   \n",
       "114922                           /organization/zyomyx-inc   \n",
       "114923                           /organization/zyomyx-inc   \n",
       "114934                                /organization/zyrra   \n",
       "114936                               /organization/zystor   \n",
       "114941  /organization/zznode-science-and-technology-co...   \n",
       "\n",
       "                                 name        category_list     status  \\\n",
       "0                               #fame                Media  operating   \n",
       "4                             0-6.com          Curated Web  operating   \n",
       "8              Ondine Biomedical Inc.        Biotechnology  operating   \n",
       "10                             H2O.ai            Analytics  operating   \n",
       "11                             H2O.ai            Analytics  operating   \n",
       "...                               ...                  ...        ...   \n",
       "114922                         ZYOMYX        Biotechnology  operating   \n",
       "114923                         ZYOMYX        Biotechnology  operating   \n",
       "114934                          Zyrra           E-Commerce  operating   \n",
       "114936                         Zystor        Biotechnology   acquired   \n",
       "114941  ZZNode Science and Technology  Enterprise Software  operating   \n",
       "\n",
       "       country_code state_code       region           city  \\\n",
       "0               IND         16       Mumbai         Mumbai   \n",
       "4               CHN         22      Beijing        Beijing   \n",
       "8               CAN         BC    Vancouver      Vancouver   \n",
       "10              USA         CA  SF Bay Area  Mountain View   \n",
       "11              USA         CA  SF Bay Area  Mountain View   \n",
       "...             ...        ...          ...            ...   \n",
       "114922          USA         MO   MO - Other        Fremont   \n",
       "114923          USA         MO   MO - Other        Fremont   \n",
       "114934          USA         MA       Boston      Cambridge   \n",
       "114936          USA         WI    Milwaukee      Milwaukee   \n",
       "114941          CHN         22      Beijing        Beijing   \n",
       "\n",
       "             primary_sector  \n",
       "0                     Media  \n",
       "4               Curated Web  \n",
       "8             Biotechnology  \n",
       "10                Analytics  \n",
       "11                Analytics  \n",
       "...                     ...  \n",
       "114922        Biotechnology  \n",
       "114923        Biotechnology  \n",
       "114934           E-Commerce  \n",
       "114936        Biotechnology  \n",
       "114941  Enterprise Software  \n",
       "\n",
       "[44118 rows x 14 columns]"
      ]
     },
     "execution_count": 51,
     "metadata": {},
     "output_type": "execute_result"
    }
   ],
   "source": [
    "top9"
   ]
  },
  {
   "cell_type": "code",
   "execution_count": 52,
   "metadata": {},
   "outputs": [
    {
     "data": {
      "text/plain": [
       "Biotechnology          6413\n",
       "Software               3859\n",
       "Advertising            2061\n",
       "Health Care            1741\n",
       "Enterprise Software    1688\n",
       "                       ... \n",
       "Office Space              1\n",
       "Portals                   1\n",
       "Online Scheduling         1\n",
       "High Tech                 1\n",
       "Mens Specific             1\n",
       "Name: primary_sector, Length: 587, dtype: int64"
      ]
     },
     "execution_count": 52,
     "metadata": {},
     "output_type": "execute_result"
    }
   ],
   "source": [
    "top9.primary_sector.value_counts(ascending = False)"
   ]
  },
  {
   "cell_type": "code",
   "execution_count": 53,
   "metadata": {},
   "outputs": [],
   "source": [
    "# Now merging the dataframes\n",
    "top9 = pd.merge(top9,m,how='left', left_on='primary_sector',right_on='category_list')"
   ]
  },
  {
   "cell_type": "code",
   "execution_count": 54,
   "metadata": {},
   "outputs": [
    {
     "data": {
      "text/html": [
       "<div>\n",
       "<style scoped>\n",
       "    .dataframe tbody tr th:only-of-type {\n",
       "        vertical-align: middle;\n",
       "    }\n",
       "\n",
       "    .dataframe tbody tr th {\n",
       "        vertical-align: top;\n",
       "    }\n",
       "\n",
       "    .dataframe thead th {\n",
       "        text-align: right;\n",
       "    }\n",
       "</style>\n",
       "<table border=\"1\" class=\"dataframe\">\n",
       "  <thead>\n",
       "    <tr style=\"text-align: right;\">\n",
       "      <th></th>\n",
       "      <th>company_permalink</th>\n",
       "      <th>funding_round_permalink</th>\n",
       "      <th>funding_round_type</th>\n",
       "      <th>funded_at</th>\n",
       "      <th>raised_amount_usd</th>\n",
       "      <th>permalink</th>\n",
       "      <th>name</th>\n",
       "      <th>category_list_x</th>\n",
       "      <th>status</th>\n",
       "      <th>country_code</th>\n",
       "      <th>state_code</th>\n",
       "      <th>region</th>\n",
       "      <th>city</th>\n",
       "      <th>primary_sector</th>\n",
       "      <th>category_list_y</th>\n",
       "      <th>main_sector</th>\n",
       "    </tr>\n",
       "  </thead>\n",
       "  <tbody>\n",
       "    <tr>\n",
       "      <th>0</th>\n",
       "      <td>/organization/-fame</td>\n",
       "      <td>/funding-round/9a01d05418af9f794eebff7ace91f638</td>\n",
       "      <td>venture</td>\n",
       "      <td>05-01-2015</td>\n",
       "      <td>10,000,000.00</td>\n",
       "      <td>/organization/-fame</td>\n",
       "      <td>#fame</td>\n",
       "      <td>Media</td>\n",
       "      <td>operating</td>\n",
       "      <td>IND</td>\n",
       "      <td>16</td>\n",
       "      <td>Mumbai</td>\n",
       "      <td>Mumbai</td>\n",
       "      <td>Media</td>\n",
       "      <td>Media</td>\n",
       "      <td>Entertainment</td>\n",
       "    </tr>\n",
       "    <tr>\n",
       "      <th>1</th>\n",
       "      <td>/organization/0-6-com</td>\n",
       "      <td>/funding-round/5727accaeaa57461bd22a9bdd945382d</td>\n",
       "      <td>venture</td>\n",
       "      <td>19-03-2008</td>\n",
       "      <td>2,000,000.00</td>\n",
       "      <td>/organization/0-6-com</td>\n",
       "      <td>0-6.com</td>\n",
       "      <td>Curated Web</td>\n",
       "      <td>operating</td>\n",
       "      <td>CHN</td>\n",
       "      <td>22</td>\n",
       "      <td>Beijing</td>\n",
       "      <td>Beijing</td>\n",
       "      <td>Curated Web</td>\n",
       "      <td>Curated Web</td>\n",
       "      <td>News, Search and Messaging</td>\n",
       "    </tr>\n",
       "    <tr>\n",
       "      <th>2</th>\n",
       "      <td>/organization/0ndine-biomedical-inc</td>\n",
       "      <td>/funding-round/954b9499724b946ad8c396a57a5f3b72</td>\n",
       "      <td>venture</td>\n",
       "      <td>21-12-2009</td>\n",
       "      <td>719,491.00</td>\n",
       "      <td>/organization/0ndine-biomedical-inc</td>\n",
       "      <td>Ondine Biomedical Inc.</td>\n",
       "      <td>Biotechnology</td>\n",
       "      <td>operating</td>\n",
       "      <td>CAN</td>\n",
       "      <td>BC</td>\n",
       "      <td>Vancouver</td>\n",
       "      <td>Vancouver</td>\n",
       "      <td>Biotechnology</td>\n",
       "      <td>Biotechnology</td>\n",
       "      <td>Cleantech / Semiconductors</td>\n",
       "    </tr>\n",
       "    <tr>\n",
       "      <th>3</th>\n",
       "      <td>/organization/0xdata</td>\n",
       "      <td>/funding-round/3bb2ee4a2d89251a10aaa735b1180e44</td>\n",
       "      <td>venture</td>\n",
       "      <td>09-11-2015</td>\n",
       "      <td>20,000,000.00</td>\n",
       "      <td>/organization/0xdata</td>\n",
       "      <td>H2O.ai</td>\n",
       "      <td>Analytics</td>\n",
       "      <td>operating</td>\n",
       "      <td>USA</td>\n",
       "      <td>CA</td>\n",
       "      <td>SF Bay Area</td>\n",
       "      <td>Mountain View</td>\n",
       "      <td>Analytics</td>\n",
       "      <td>Analytics</td>\n",
       "      <td>Social, Finance, Analytics, Advertising</td>\n",
       "    </tr>\n",
       "    <tr>\n",
       "      <th>4</th>\n",
       "      <td>/organization/0xdata</td>\n",
       "      <td>/funding-round/ae2a174c06517c2394aed45006322a7e</td>\n",
       "      <td>venture</td>\n",
       "      <td>03-01-2013</td>\n",
       "      <td>1,700,000.00</td>\n",
       "      <td>/organization/0xdata</td>\n",
       "      <td>H2O.ai</td>\n",
       "      <td>Analytics</td>\n",
       "      <td>operating</td>\n",
       "      <td>USA</td>\n",
       "      <td>CA</td>\n",
       "      <td>SF Bay Area</td>\n",
       "      <td>Mountain View</td>\n",
       "      <td>Analytics</td>\n",
       "      <td>Analytics</td>\n",
       "      <td>Social, Finance, Analytics, Advertising</td>\n",
       "    </tr>\n",
       "  </tbody>\n",
       "</table>\n",
       "</div>"
      ],
      "text/plain": [
       "                     company_permalink  \\\n",
       "0                  /organization/-fame   \n",
       "1                /organization/0-6-com   \n",
       "2  /organization/0ndine-biomedical-inc   \n",
       "3                 /organization/0xdata   \n",
       "4                 /organization/0xdata   \n",
       "\n",
       "                           funding_round_permalink funding_round_type  \\\n",
       "0  /funding-round/9a01d05418af9f794eebff7ace91f638            venture   \n",
       "1  /funding-round/5727accaeaa57461bd22a9bdd945382d            venture   \n",
       "2  /funding-round/954b9499724b946ad8c396a57a5f3b72            venture   \n",
       "3  /funding-round/3bb2ee4a2d89251a10aaa735b1180e44            venture   \n",
       "4  /funding-round/ae2a174c06517c2394aed45006322a7e            venture   \n",
       "\n",
       "    funded_at  raised_amount_usd                            permalink  \\\n",
       "0  05-01-2015      10,000,000.00                  /organization/-fame   \n",
       "1  19-03-2008       2,000,000.00                /organization/0-6-com   \n",
       "2  21-12-2009         719,491.00  /organization/0ndine-biomedical-inc   \n",
       "3  09-11-2015      20,000,000.00                 /organization/0xdata   \n",
       "4  03-01-2013       1,700,000.00                 /organization/0xdata   \n",
       "\n",
       "                     name category_list_x     status country_code state_code  \\\n",
       "0                   #fame           Media  operating          IND         16   \n",
       "1                 0-6.com     Curated Web  operating          CHN         22   \n",
       "2  Ondine Biomedical Inc.   Biotechnology  operating          CAN         BC   \n",
       "3                  H2O.ai       Analytics  operating          USA         CA   \n",
       "4                  H2O.ai       Analytics  operating          USA         CA   \n",
       "\n",
       "        region           city primary_sector category_list_y  \\\n",
       "0       Mumbai         Mumbai          Media           Media   \n",
       "1      Beijing        Beijing    Curated Web     Curated Web   \n",
       "2    Vancouver      Vancouver  Biotechnology   Biotechnology   \n",
       "3  SF Bay Area  Mountain View      Analytics       Analytics   \n",
       "4  SF Bay Area  Mountain View      Analytics       Analytics   \n",
       "\n",
       "                               main_sector  \n",
       "0                            Entertainment  \n",
       "1               News, Search and Messaging  \n",
       "2               Cleantech / Semiconductors  \n",
       "3  Social, Finance, Analytics, Advertising  \n",
       "4  Social, Finance, Analytics, Advertising  "
      ]
     },
     "execution_count": 54,
     "metadata": {},
     "output_type": "execute_result"
    }
   ],
   "source": [
    "top9.head()"
   ]
  },
  {
   "cell_type": "code",
   "execution_count": 55,
   "metadata": {},
   "outputs": [],
   "source": [
    "# so on merging there are two same cloumns(category_list_x & category_list_y) created so dropping one 'category_list_y'\n",
    "top9 = top9.drop('category_list_y',axis=1)"
   ]
  },
  {
   "cell_type": "code",
   "execution_count": 56,
   "metadata": {},
   "outputs": [
    {
     "data": {
      "text/html": [
       "<div>\n",
       "<style scoped>\n",
       "    .dataframe tbody tr th:only-of-type {\n",
       "        vertical-align: middle;\n",
       "    }\n",
       "\n",
       "    .dataframe tbody tr th {\n",
       "        vertical-align: top;\n",
       "    }\n",
       "\n",
       "    .dataframe thead th {\n",
       "        text-align: right;\n",
       "    }\n",
       "</style>\n",
       "<table border=\"1\" class=\"dataframe\">\n",
       "  <thead>\n",
       "    <tr style=\"text-align: right;\">\n",
       "      <th></th>\n",
       "      <th>company_permalink</th>\n",
       "      <th>funding_round_permalink</th>\n",
       "      <th>funding_round_type</th>\n",
       "      <th>funded_at</th>\n",
       "      <th>raised_amount_usd</th>\n",
       "      <th>permalink</th>\n",
       "      <th>name</th>\n",
       "      <th>category_list_x</th>\n",
       "      <th>status</th>\n",
       "      <th>country_code</th>\n",
       "      <th>state_code</th>\n",
       "      <th>region</th>\n",
       "      <th>city</th>\n",
       "      <th>primary_sector</th>\n",
       "      <th>main_sector</th>\n",
       "    </tr>\n",
       "  </thead>\n",
       "  <tbody>\n",
       "    <tr>\n",
       "      <th>0</th>\n",
       "      <td>/organization/-fame</td>\n",
       "      <td>/funding-round/9a01d05418af9f794eebff7ace91f638</td>\n",
       "      <td>venture</td>\n",
       "      <td>05-01-2015</td>\n",
       "      <td>10,000,000.00</td>\n",
       "      <td>/organization/-fame</td>\n",
       "      <td>#fame</td>\n",
       "      <td>Media</td>\n",
       "      <td>operating</td>\n",
       "      <td>IND</td>\n",
       "      <td>16</td>\n",
       "      <td>Mumbai</td>\n",
       "      <td>Mumbai</td>\n",
       "      <td>Media</td>\n",
       "      <td>Entertainment</td>\n",
       "    </tr>\n",
       "    <tr>\n",
       "      <th>1</th>\n",
       "      <td>/organization/0-6-com</td>\n",
       "      <td>/funding-round/5727accaeaa57461bd22a9bdd945382d</td>\n",
       "      <td>venture</td>\n",
       "      <td>19-03-2008</td>\n",
       "      <td>2,000,000.00</td>\n",
       "      <td>/organization/0-6-com</td>\n",
       "      <td>0-6.com</td>\n",
       "      <td>Curated Web</td>\n",
       "      <td>operating</td>\n",
       "      <td>CHN</td>\n",
       "      <td>22</td>\n",
       "      <td>Beijing</td>\n",
       "      <td>Beijing</td>\n",
       "      <td>Curated Web</td>\n",
       "      <td>News, Search and Messaging</td>\n",
       "    </tr>\n",
       "    <tr>\n",
       "      <th>2</th>\n",
       "      <td>/organization/0ndine-biomedical-inc</td>\n",
       "      <td>/funding-round/954b9499724b946ad8c396a57a5f3b72</td>\n",
       "      <td>venture</td>\n",
       "      <td>21-12-2009</td>\n",
       "      <td>719,491.00</td>\n",
       "      <td>/organization/0ndine-biomedical-inc</td>\n",
       "      <td>Ondine Biomedical Inc.</td>\n",
       "      <td>Biotechnology</td>\n",
       "      <td>operating</td>\n",
       "      <td>CAN</td>\n",
       "      <td>BC</td>\n",
       "      <td>Vancouver</td>\n",
       "      <td>Vancouver</td>\n",
       "      <td>Biotechnology</td>\n",
       "      <td>Cleantech / Semiconductors</td>\n",
       "    </tr>\n",
       "    <tr>\n",
       "      <th>3</th>\n",
       "      <td>/organization/0xdata</td>\n",
       "      <td>/funding-round/3bb2ee4a2d89251a10aaa735b1180e44</td>\n",
       "      <td>venture</td>\n",
       "      <td>09-11-2015</td>\n",
       "      <td>20,000,000.00</td>\n",
       "      <td>/organization/0xdata</td>\n",
       "      <td>H2O.ai</td>\n",
       "      <td>Analytics</td>\n",
       "      <td>operating</td>\n",
       "      <td>USA</td>\n",
       "      <td>CA</td>\n",
       "      <td>SF Bay Area</td>\n",
       "      <td>Mountain View</td>\n",
       "      <td>Analytics</td>\n",
       "      <td>Social, Finance, Analytics, Advertising</td>\n",
       "    </tr>\n",
       "    <tr>\n",
       "      <th>4</th>\n",
       "      <td>/organization/0xdata</td>\n",
       "      <td>/funding-round/ae2a174c06517c2394aed45006322a7e</td>\n",
       "      <td>venture</td>\n",
       "      <td>03-01-2013</td>\n",
       "      <td>1,700,000.00</td>\n",
       "      <td>/organization/0xdata</td>\n",
       "      <td>H2O.ai</td>\n",
       "      <td>Analytics</td>\n",
       "      <td>operating</td>\n",
       "      <td>USA</td>\n",
       "      <td>CA</td>\n",
       "      <td>SF Bay Area</td>\n",
       "      <td>Mountain View</td>\n",
       "      <td>Analytics</td>\n",
       "      <td>Social, Finance, Analytics, Advertising</td>\n",
       "    </tr>\n",
       "  </tbody>\n",
       "</table>\n",
       "</div>"
      ],
      "text/plain": [
       "                     company_permalink  \\\n",
       "0                  /organization/-fame   \n",
       "1                /organization/0-6-com   \n",
       "2  /organization/0ndine-biomedical-inc   \n",
       "3                 /organization/0xdata   \n",
       "4                 /organization/0xdata   \n",
       "\n",
       "                           funding_round_permalink funding_round_type  \\\n",
       "0  /funding-round/9a01d05418af9f794eebff7ace91f638            venture   \n",
       "1  /funding-round/5727accaeaa57461bd22a9bdd945382d            venture   \n",
       "2  /funding-round/954b9499724b946ad8c396a57a5f3b72            venture   \n",
       "3  /funding-round/3bb2ee4a2d89251a10aaa735b1180e44            venture   \n",
       "4  /funding-round/ae2a174c06517c2394aed45006322a7e            venture   \n",
       "\n",
       "    funded_at  raised_amount_usd                            permalink  \\\n",
       "0  05-01-2015      10,000,000.00                  /organization/-fame   \n",
       "1  19-03-2008       2,000,000.00                /organization/0-6-com   \n",
       "2  21-12-2009         719,491.00  /organization/0ndine-biomedical-inc   \n",
       "3  09-11-2015      20,000,000.00                 /organization/0xdata   \n",
       "4  03-01-2013       1,700,000.00                 /organization/0xdata   \n",
       "\n",
       "                     name category_list_x     status country_code state_code  \\\n",
       "0                   #fame           Media  operating          IND         16   \n",
       "1                 0-6.com     Curated Web  operating          CHN         22   \n",
       "2  Ondine Biomedical Inc.   Biotechnology  operating          CAN         BC   \n",
       "3                  H2O.ai       Analytics  operating          USA         CA   \n",
       "4                  H2O.ai       Analytics  operating          USA         CA   \n",
       "\n",
       "        region           city primary_sector  \\\n",
       "0       Mumbai         Mumbai          Media   \n",
       "1      Beijing        Beijing    Curated Web   \n",
       "2    Vancouver      Vancouver  Biotechnology   \n",
       "3  SF Bay Area  Mountain View      Analytics   \n",
       "4  SF Bay Area  Mountain View      Analytics   \n",
       "\n",
       "                               main_sector  \n",
       "0                            Entertainment  \n",
       "1               News, Search and Messaging  \n",
       "2               Cleantech / Semiconductors  \n",
       "3  Social, Finance, Analytics, Advertising  \n",
       "4  Social, Finance, Analytics, Advertising  "
      ]
     },
     "execution_count": 56,
     "metadata": {},
     "output_type": "execute_result"
    }
   ],
   "source": [
    "top9.head()"
   ]
  },
  {
   "cell_type": "code",
   "execution_count": 57,
   "metadata": {},
   "outputs": [
    {
     "data": {
      "text/plain": [
       "0                              Entertainment\n",
       "1                 News, Search and Messaging\n",
       "2                 Cleantech / Semiconductors\n",
       "3    Social, Finance, Analytics, Advertising\n",
       "4    Social, Finance, Analytics, Advertising\n",
       "Name: main_sector, dtype: object"
      ]
     },
     "execution_count": 57,
     "metadata": {},
     "output_type": "execute_result"
    }
   ],
   "source": [
    "top9['main_sector'].head()"
   ]
  },
  {
   "cell_type": "markdown",
   "metadata": {},
   "source": [
    "Checking for the null values in main_sector in merged dataframe"
   ]
  },
  {
   "cell_type": "code",
   "execution_count": 58,
   "metadata": {},
   "outputs": [
    {
     "data": {
      "text/plain": [
       "12"
      ]
     },
     "execution_count": 58,
     "metadata": {},
     "output_type": "execute_result"
    }
   ],
   "source": [
    "len(top9[top9['main_sector'].isnull()])"
   ]
  },
  {
   "cell_type": "code",
   "execution_count": 59,
   "metadata": {},
   "outputs": [],
   "source": [
    "top9 = top9[~(top9['main_sector'].isnull())]"
   ]
  },
  {
   "cell_type": "code",
   "execution_count": 60,
   "metadata": {},
   "outputs": [
    {
     "data": {
      "text/plain": [
       "0"
      ]
     },
     "execution_count": 60,
     "metadata": {},
     "output_type": "execute_result"
    }
   ],
   "source": [
    "len(top9[top9['main_sector'].isnull()])"
   ]
  },
  {
   "cell_type": "code",
   "execution_count": 61,
   "metadata": {},
   "outputs": [
    {
     "data": {
      "text/html": [
       "<div>\n",
       "<style scoped>\n",
       "    .dataframe tbody tr th:only-of-type {\n",
       "        vertical-align: middle;\n",
       "    }\n",
       "\n",
       "    .dataframe tbody tr th {\n",
       "        vertical-align: top;\n",
       "    }\n",
       "\n",
       "    .dataframe thead th {\n",
       "        text-align: right;\n",
       "    }\n",
       "</style>\n",
       "<table border=\"1\" class=\"dataframe\">\n",
       "  <thead>\n",
       "    <tr style=\"text-align: right;\">\n",
       "      <th></th>\n",
       "      <th>company_permalink</th>\n",
       "      <th>funding_round_permalink</th>\n",
       "      <th>funding_round_type</th>\n",
       "      <th>funded_at</th>\n",
       "      <th>raised_amount_usd</th>\n",
       "      <th>permalink</th>\n",
       "      <th>name</th>\n",
       "      <th>category_list_x</th>\n",
       "      <th>status</th>\n",
       "      <th>country_code</th>\n",
       "      <th>state_code</th>\n",
       "      <th>region</th>\n",
       "      <th>city</th>\n",
       "      <th>primary_sector</th>\n",
       "      <th>main_sector</th>\n",
       "    </tr>\n",
       "  </thead>\n",
       "  <tbody>\n",
       "    <tr>\n",
       "      <th>0</th>\n",
       "      <td>/organization/-fame</td>\n",
       "      <td>/funding-round/9a01d05418af9f794eebff7ace91f638</td>\n",
       "      <td>venture</td>\n",
       "      <td>05-01-2015</td>\n",
       "      <td>10,000,000.00</td>\n",
       "      <td>/organization/-fame</td>\n",
       "      <td>#fame</td>\n",
       "      <td>Media</td>\n",
       "      <td>operating</td>\n",
       "      <td>IND</td>\n",
       "      <td>16</td>\n",
       "      <td>Mumbai</td>\n",
       "      <td>Mumbai</td>\n",
       "      <td>Media</td>\n",
       "      <td>Entertainment</td>\n",
       "    </tr>\n",
       "    <tr>\n",
       "      <th>1</th>\n",
       "      <td>/organization/0-6-com</td>\n",
       "      <td>/funding-round/5727accaeaa57461bd22a9bdd945382d</td>\n",
       "      <td>venture</td>\n",
       "      <td>19-03-2008</td>\n",
       "      <td>2,000,000.00</td>\n",
       "      <td>/organization/0-6-com</td>\n",
       "      <td>0-6.com</td>\n",
       "      <td>Curated Web</td>\n",
       "      <td>operating</td>\n",
       "      <td>CHN</td>\n",
       "      <td>22</td>\n",
       "      <td>Beijing</td>\n",
       "      <td>Beijing</td>\n",
       "      <td>Curated Web</td>\n",
       "      <td>News, Search and Messaging</td>\n",
       "    </tr>\n",
       "    <tr>\n",
       "      <th>2</th>\n",
       "      <td>/organization/0ndine-biomedical-inc</td>\n",
       "      <td>/funding-round/954b9499724b946ad8c396a57a5f3b72</td>\n",
       "      <td>venture</td>\n",
       "      <td>21-12-2009</td>\n",
       "      <td>719,491.00</td>\n",
       "      <td>/organization/0ndine-biomedical-inc</td>\n",
       "      <td>Ondine Biomedical Inc.</td>\n",
       "      <td>Biotechnology</td>\n",
       "      <td>operating</td>\n",
       "      <td>CAN</td>\n",
       "      <td>BC</td>\n",
       "      <td>Vancouver</td>\n",
       "      <td>Vancouver</td>\n",
       "      <td>Biotechnology</td>\n",
       "      <td>Cleantech / Semiconductors</td>\n",
       "    </tr>\n",
       "    <tr>\n",
       "      <th>3</th>\n",
       "      <td>/organization/0xdata</td>\n",
       "      <td>/funding-round/3bb2ee4a2d89251a10aaa735b1180e44</td>\n",
       "      <td>venture</td>\n",
       "      <td>09-11-2015</td>\n",
       "      <td>20,000,000.00</td>\n",
       "      <td>/organization/0xdata</td>\n",
       "      <td>H2O.ai</td>\n",
       "      <td>Analytics</td>\n",
       "      <td>operating</td>\n",
       "      <td>USA</td>\n",
       "      <td>CA</td>\n",
       "      <td>SF Bay Area</td>\n",
       "      <td>Mountain View</td>\n",
       "      <td>Analytics</td>\n",
       "      <td>Social, Finance, Analytics, Advertising</td>\n",
       "    </tr>\n",
       "    <tr>\n",
       "      <th>4</th>\n",
       "      <td>/organization/0xdata</td>\n",
       "      <td>/funding-round/ae2a174c06517c2394aed45006322a7e</td>\n",
       "      <td>venture</td>\n",
       "      <td>03-01-2013</td>\n",
       "      <td>1,700,000.00</td>\n",
       "      <td>/organization/0xdata</td>\n",
       "      <td>H2O.ai</td>\n",
       "      <td>Analytics</td>\n",
       "      <td>operating</td>\n",
       "      <td>USA</td>\n",
       "      <td>CA</td>\n",
       "      <td>SF Bay Area</td>\n",
       "      <td>Mountain View</td>\n",
       "      <td>Analytics</td>\n",
       "      <td>Social, Finance, Analytics, Advertising</td>\n",
       "    </tr>\n",
       "  </tbody>\n",
       "</table>\n",
       "</div>"
      ],
      "text/plain": [
       "                     company_permalink  \\\n",
       "0                  /organization/-fame   \n",
       "1                /organization/0-6-com   \n",
       "2  /organization/0ndine-biomedical-inc   \n",
       "3                 /organization/0xdata   \n",
       "4                 /organization/0xdata   \n",
       "\n",
       "                           funding_round_permalink funding_round_type  \\\n",
       "0  /funding-round/9a01d05418af9f794eebff7ace91f638            venture   \n",
       "1  /funding-round/5727accaeaa57461bd22a9bdd945382d            venture   \n",
       "2  /funding-round/954b9499724b946ad8c396a57a5f3b72            venture   \n",
       "3  /funding-round/3bb2ee4a2d89251a10aaa735b1180e44            venture   \n",
       "4  /funding-round/ae2a174c06517c2394aed45006322a7e            venture   \n",
       "\n",
       "    funded_at  raised_amount_usd                            permalink  \\\n",
       "0  05-01-2015      10,000,000.00                  /organization/-fame   \n",
       "1  19-03-2008       2,000,000.00                /organization/0-6-com   \n",
       "2  21-12-2009         719,491.00  /organization/0ndine-biomedical-inc   \n",
       "3  09-11-2015      20,000,000.00                 /organization/0xdata   \n",
       "4  03-01-2013       1,700,000.00                 /organization/0xdata   \n",
       "\n",
       "                     name category_list_x     status country_code state_code  \\\n",
       "0                   #fame           Media  operating          IND         16   \n",
       "1                 0-6.com     Curated Web  operating          CHN         22   \n",
       "2  Ondine Biomedical Inc.   Biotechnology  operating          CAN         BC   \n",
       "3                  H2O.ai       Analytics  operating          USA         CA   \n",
       "4                  H2O.ai       Analytics  operating          USA         CA   \n",
       "\n",
       "        region           city primary_sector  \\\n",
       "0       Mumbai         Mumbai          Media   \n",
       "1      Beijing        Beijing    Curated Web   \n",
       "2    Vancouver      Vancouver  Biotechnology   \n",
       "3  SF Bay Area  Mountain View      Analytics   \n",
       "4  SF Bay Area  Mountain View      Analytics   \n",
       "\n",
       "                               main_sector  \n",
       "0                            Entertainment  \n",
       "1               News, Search and Messaging  \n",
       "2               Cleantech / Semiconductors  \n",
       "3  Social, Finance, Analytics, Advertising  \n",
       "4  Social, Finance, Analytics, Advertising  "
      ]
     },
     "execution_count": 61,
     "metadata": {},
     "output_type": "execute_result"
    }
   ],
   "source": [
    "top9.head()"
   ]
  },
  {
   "cell_type": "markdown",
   "metadata": {},
   "source": [
    "### Creating three separate data frames D1, D2 and D3 for each of the top three countries (USA, GBR, IND) containing the observations of funding type venture falling within the 5-15 million USD range."
   ]
  },
  {
   "cell_type": "markdown",
   "metadata": {},
   "source": [
    "## Sector Analysis - USA"
   ]
  },
  {
   "cell_type": "markdown",
   "metadata": {},
   "source": [
    "Creating Data frame D1 for country USA"
   ]
  },
  {
   "cell_type": "code",
   "execution_count": 62,
   "metadata": {},
   "outputs": [],
   "source": [
    "D1=top9[top9['country_code']=='USA']"
   ]
  },
  {
   "cell_type": "code",
   "execution_count": 63,
   "metadata": {},
   "outputs": [],
   "source": [
    "D1 = D1[(D1['raised_amount_usd'] >= 5000000) & (D1['raised_amount_usd'] <= 15000000)]"
   ]
  },
  {
   "cell_type": "markdown",
   "metadata": {},
   "source": [
    "Total amount raised in USA"
   ]
  },
  {
   "cell_type": "code",
   "execution_count": 64,
   "metadata": {},
   "outputs": [
    {
     "data": {
      "text/plain": [
       "107757097294.0"
      ]
     },
     "execution_count": 64,
     "metadata": {},
     "output_type": "execute_result"
    }
   ],
   "source": [
    "D1.raised_amount_usd.sum()"
   ]
  },
  {
   "cell_type": "code",
   "execution_count": 65,
   "metadata": {},
   "outputs": [
    {
     "data": {
      "text/plain": [
       "12063"
      ]
     },
     "execution_count": 65,
     "metadata": {},
     "output_type": "execute_result"
    }
   ],
   "source": [
    "D1.raised_amount_usd.count()"
   ]
  },
  {
   "cell_type": "code",
   "execution_count": 66,
   "metadata": {},
   "outputs": [
    {
     "data": {
      "text/plain": [
       "(12063, 15)"
      ]
     },
     "execution_count": 66,
     "metadata": {},
     "output_type": "execute_result"
    }
   ],
   "source": [
    "D1.shape"
   ]
  },
  {
   "cell_type": "markdown",
   "metadata": {},
   "source": [
    "Finding the top sectors with the highest number of investments in USA."
   ]
  },
  {
   "cell_type": "code",
   "execution_count": 67,
   "metadata": {},
   "outputs": [],
   "source": [
    "D1_by_sector=D1.groupby('main_sector')"
   ]
  },
  {
   "cell_type": "code",
   "execution_count": 83,
   "metadata": {},
   "outputs": [
    {
     "data": {
      "text/plain": [
       "main_sector\n",
       "Others                                     2950\n",
       "Social, Finance, Analytics, Advertising    2714\n",
       "Cleantech / Semiconductors                 2350\n",
       "News, Search and Messaging                 1583\n",
       "Health                                      909\n",
       "Manufacturing                               799\n",
       "Entertainment                               591\n",
       "Automotive & Sports                         167\n",
       "Name: raised_amount_usd, dtype: int64"
      ]
     },
     "execution_count": 83,
     "metadata": {},
     "output_type": "execute_result"
    }
   ],
   "source": [
    "D1_by_sector['raised_amount_usd'].count().sort_values(ascending = False)"
   ]
  },
  {
   "cell_type": "code",
   "execution_count": 84,
   "metadata": {},
   "outputs": [
    {
     "data": {
      "text/plain": [
       "main_sector\n",
       "Others                                    26,321,007,002.00\n",
       "Social, Finance, Analytics, Advertising   23,807,376,964.00\n",
       "Cleantech / Semiconductors                21,633,430,822.00\n",
       "News, Search and Messaging                13,971,567,428.00\n",
       "Health                                     8,211,859,357.00\n",
       "Manufacturing                              7,258,553,378.00\n",
       "Entertainment                              5,099,197,982.00\n",
       "Automotive & Sports                        1,454,104,361.00\n",
       "Name: raised_amount_usd, dtype: float64"
      ]
     },
     "execution_count": 84,
     "metadata": {},
     "output_type": "execute_result"
    }
   ],
   "source": [
    "D1_by_sector['raised_amount_usd'].sum().sort_values(ascending = False)"
   ]
  },
  {
   "cell_type": "markdown",
   "metadata": {},
   "source": [
    "Finding the highest invested company among the 1st Top sectors of the country."
   ]
  },
  {
   "cell_type": "code",
   "execution_count": 71,
   "metadata": {},
   "outputs": [
    {
     "data": {
      "text/plain": [
       "main_sector  permalink                        \n",
       "Others       /organization/virtustream           64,300,000.00\n",
       "             /organization/capella               54,968,051.00\n",
       "             /organization/airtight-networks     54,201,907.00\n",
       "             /organization/decarta               52,100,000.00\n",
       "             /organization/black-duck-software   51,000,000.00\n",
       "                                                      ...     \n",
       "             /organization/capton                 5,000,000.00\n",
       "             /organization/capital-teas           5,000,000.00\n",
       "             /organization/campus-quad            5,000,000.00\n",
       "             /organization/campus-explorer        5,000,000.00\n",
       "             /organization/netqos                 5,000,000.00\n",
       "Name: raised_amount_usd, Length: 2049, dtype: float64"
      ]
     },
     "execution_count": 71,
     "metadata": {},
     "output_type": "execute_result"
    }
   ],
   "source": [
    "D1[D1['main_sector']=='Others'].groupby(['main_sector','permalink']).raised_amount_usd.sum().sort_values(ascending=False)"
   ]
  },
  {
   "cell_type": "markdown",
   "metadata": {},
   "source": [
    "Finding the highest invested company among the 2nd Top sectors of the country."
   ]
  },
  {
   "cell_type": "code",
   "execution_count": 73,
   "metadata": {},
   "outputs": [
    {
     "data": {
      "text/plain": [
       "main_sector                              permalink                     \n",
       "Social, Finance, Analytics, Advertising  /organization/shotspotter        67,933,006.00\n",
       "                                         /organization/demandbase         63,000,000.00\n",
       "                                         /organization/intacct            61,800,000.00\n",
       "                                         /organization/netbase            60,600,000.00\n",
       "                                         /organization/lotame             59,700,000.00\n",
       "                                                                               ...     \n",
       "                                         /organization/logi-analytics      5,000,000.00\n",
       "                                         /organization/smartturn           5,000,000.00\n",
       "                                         /organization/fractal-sciences    5,000,000.00\n",
       "                                         /organization/amtec-lcc           5,000,000.00\n",
       "                                         /organization/initiate-systems    5,000,000.00\n",
       "Name: raised_amount_usd, Length: 1847, dtype: float64"
      ]
     },
     "execution_count": 73,
     "metadata": {},
     "output_type": "execute_result"
    }
   ],
   "source": [
    "D1[D1['main_sector']=='Social, Finance, Analytics, Advertising'].groupby(['main_sector','permalink']).raised_amount_usd.sum().sort_values(ascending=False)"
   ]
  },
  {
   "cell_type": "markdown",
   "metadata": {},
   "source": [
    "## Sector Analysis - GBR (United Kingdom)"
   ]
  },
  {
   "cell_type": "markdown",
   "metadata": {},
   "source": [
    "Creating Data frame D2 for country GBR"
   ]
  },
  {
   "cell_type": "code",
   "execution_count": 74,
   "metadata": {},
   "outputs": [],
   "source": [
    "D2=top9[top9['country_code']=='GBR']"
   ]
  },
  {
   "cell_type": "code",
   "execution_count": 75,
   "metadata": {},
   "outputs": [],
   "source": [
    "D2 = D2[(D2['raised_amount_usd'] >= 5000000) & (D2['raised_amount_usd'] <= 15000000)]"
   ]
  },
  {
   "cell_type": "markdown",
   "metadata": {},
   "source": [
    "Total amount raised in GBR"
   ]
  },
  {
   "cell_type": "code",
   "execution_count": 76,
   "metadata": {},
   "outputs": [
    {
     "data": {
      "text/plain": [
       "5379078691.0"
      ]
     },
     "execution_count": 76,
     "metadata": {},
     "output_type": "execute_result"
    }
   ],
   "source": [
    "D2.raised_amount_usd.sum()"
   ]
  },
  {
   "cell_type": "code",
   "execution_count": 77,
   "metadata": {},
   "outputs": [
    {
     "data": {
      "text/plain": [
       "621"
      ]
     },
     "execution_count": 77,
     "metadata": {},
     "output_type": "execute_result"
    }
   ],
   "source": [
    "D2.raised_amount_usd.count()"
   ]
  },
  {
   "cell_type": "code",
   "execution_count": 78,
   "metadata": {},
   "outputs": [
    {
     "data": {
      "text/plain": [
       "(621, 15)"
      ]
     },
     "execution_count": 78,
     "metadata": {},
     "output_type": "execute_result"
    }
   ],
   "source": [
    "D2.shape"
   ]
  },
  {
   "cell_type": "markdown",
   "metadata": {},
   "source": [
    "Finding the top sectors with the highest number of investments in GBR"
   ]
  },
  {
   "cell_type": "code",
   "execution_count": 79,
   "metadata": {},
   "outputs": [],
   "source": [
    "D2_by_sector=D2.groupby('main_sector')"
   ]
  },
  {
   "cell_type": "code",
   "execution_count": 80,
   "metadata": {},
   "outputs": [
    {
     "data": {
      "text/plain": [
       "main_sector\n",
       "Others                                     147\n",
       "Social, Finance, Analytics, Advertising    133\n",
       "Cleantech / Semiconductors                 130\n",
       "News, Search and Messaging                  73\n",
       "Entertainment                               56\n",
       "Manufacturing                               42\n",
       "Health                                      24\n",
       "Automotive & Sports                         16\n",
       "Name: raised_amount_usd, dtype: int64"
      ]
     },
     "execution_count": 80,
     "metadata": {},
     "output_type": "execute_result"
    }
   ],
   "source": [
    "D2_by_sector['raised_amount_usd'].count().sort_values(ascending = False)"
   ]
  },
  {
   "cell_type": "code",
   "execution_count": 85,
   "metadata": {},
   "outputs": [
    {
     "data": {
      "text/plain": [
       "main_sector\n",
       "Others                                    1,283,624,289.00\n",
       "Cleantech / Semiconductors                1,163,990,056.00\n",
       "Social, Finance, Analytics, Advertising   1,089,404,014.00\n",
       "News, Search and Messaging                  615,746,235.00\n",
       "Entertainment                               482,784,687.00\n",
       "Manufacturing                               361,940,335.00\n",
       "Health                                      214,537,510.00\n",
       "Automotive & Sports                         167,051,565.00\n",
       "Name: raised_amount_usd, dtype: float64"
      ]
     },
     "execution_count": 85,
     "metadata": {},
     "output_type": "execute_result"
    }
   ],
   "source": [
    "D2_by_sector['raised_amount_usd'].sum().sort_values(ascending = False)"
   ]
  },
  {
   "cell_type": "markdown",
   "metadata": {},
   "source": [
    "Finding the highest invested company among the 1st Top sectors of the country."
   ]
  },
  {
   "cell_type": "code",
   "execution_count": 87,
   "metadata": {},
   "outputs": [
    {
     "data": {
      "text/plain": [
       "main_sector  permalink                            \n",
       "Others       /organization/electric-cloud            37,000,000.00\n",
       "             /organization/sensage                   36,250,000.00\n",
       "             /organization/enigmatic                 32,500,000.00\n",
       "             /organization/silverrail-technologies   29,000,000.00\n",
       "             /organization/opencloud                 27,972,766.00\n",
       "                                                          ...     \n",
       "             /organization/parcelgenie                5,000,000.00\n",
       "             /organization/vector-watch               5,000,000.00\n",
       "             /organization/thefilter                  5,000,000.00\n",
       "             /organization/udex                       5,000,000.00\n",
       "             /organization/bacula-systems             5,000,000.00\n",
       "Name: raised_amount_usd, Length: 120, dtype: float64"
      ]
     },
     "execution_count": 87,
     "metadata": {},
     "output_type": "execute_result"
    }
   ],
   "source": [
    "D2[D2['main_sector']=='Others'].groupby(['main_sector','permalink']).raised_amount_usd.sum().sort_values(ascending=False)"
   ]
  },
  {
   "cell_type": "markdown",
   "metadata": {},
   "source": [
    "Finding the highest invested company among the 2nd Top sectors of the country."
   ]
  },
  {
   "cell_type": "code",
   "execution_count": 88,
   "metadata": {},
   "outputs": [
    {
     "data": {
      "text/plain": [
       "main_sector                              permalink                          \n",
       "Social, Finance, Analytics, Advertising  /organization/celltick-technologies   37,500,000.00\n",
       "                                         /organization/mythings                34,000,000.00\n",
       "                                         /organization/zopa                    32,900,000.00\n",
       "                                         /organization/imagini                 28,550,000.00\n",
       "                                         /organization/marketinvoice           25,553,007.00\n",
       "                                                                                    ...     \n",
       "                                         /organization/moo                      5,000,000.00\n",
       "                                         /organization/rangespan                5,000,000.00\n",
       "                                         /organization/tamoco                   5,000,000.00\n",
       "                                         /organization/the-fizzback-group       5,000,000.00\n",
       "                                         /organization/duedil                   5,000,000.00\n",
       "Name: raised_amount_usd, Length: 104, dtype: float64"
      ]
     },
     "execution_count": 88,
     "metadata": {},
     "output_type": "execute_result"
    }
   ],
   "source": [
    "D2[D2['main_sector']=='Social, Finance, Analytics, Advertising'].groupby(['main_sector','permalink']).raised_amount_usd.sum().sort_values(ascending=False)"
   ]
  },
  {
   "cell_type": "markdown",
   "metadata": {},
   "source": [
    "## Sector Analysis - India"
   ]
  },
  {
   "cell_type": "markdown",
   "metadata": {},
   "source": [
    "Creating Data frame D2 for country GBR"
   ]
  },
  {
   "cell_type": "code",
   "execution_count": 90,
   "metadata": {},
   "outputs": [],
   "source": [
    "D3=top9[top9['country_code']=='IND']"
   ]
  },
  {
   "cell_type": "code",
   "execution_count": 91,
   "metadata": {},
   "outputs": [],
   "source": [
    "D3 = D3[(D3['raised_amount_usd'] >= 5000000) & (D3['raised_amount_usd'] <= 15000000)]"
   ]
  },
  {
   "cell_type": "markdown",
   "metadata": {},
   "source": [
    "Total amount raised in IND"
   ]
  },
  {
   "cell_type": "code",
   "execution_count": 92,
   "metadata": {},
   "outputs": [
    {
     "data": {
      "text/plain": [
       "2949543602.0"
      ]
     },
     "execution_count": 92,
     "metadata": {},
     "output_type": "execute_result"
    }
   ],
   "source": [
    "D3.raised_amount_usd.sum()"
   ]
  },
  {
   "cell_type": "code",
   "execution_count": 93,
   "metadata": {},
   "outputs": [
    {
     "data": {
      "text/plain": [
       "328"
      ]
     },
     "execution_count": 93,
     "metadata": {},
     "output_type": "execute_result"
    }
   ],
   "source": [
    "D3.raised_amount_usd.count()"
   ]
  },
  {
   "cell_type": "code",
   "execution_count": 94,
   "metadata": {},
   "outputs": [
    {
     "data": {
      "text/plain": [
       "(328, 15)"
      ]
     },
     "execution_count": 94,
     "metadata": {},
     "output_type": "execute_result"
    }
   ],
   "source": [
    "D3.shape"
   ]
  },
  {
   "cell_type": "markdown",
   "metadata": {},
   "source": [
    "Finding the top sectors with the highest number of investments in IND"
   ]
  },
  {
   "cell_type": "code",
   "execution_count": 95,
   "metadata": {},
   "outputs": [],
   "source": [
    "D3_by_sector=D1.groupby('main_sector')"
   ]
  },
  {
   "cell_type": "code",
   "execution_count": 97,
   "metadata": {},
   "outputs": [
    {
     "data": {
      "text/plain": [
       "main_sector\n",
       "Others                                     2950\n",
       "Social, Finance, Analytics, Advertising    2714\n",
       "Cleantech / Semiconductors                 2350\n",
       "News, Search and Messaging                 1583\n",
       "Health                                      909\n",
       "Manufacturing                               799\n",
       "Entertainment                               591\n",
       "Automotive & Sports                         167\n",
       "Name: raised_amount_usd, dtype: int64"
      ]
     },
     "execution_count": 97,
     "metadata": {},
     "output_type": "execute_result"
    }
   ],
   "source": [
    "D3_by_sector['raised_amount_usd'].count().sort_values(ascending = False)"
   ]
  },
  {
   "cell_type": "code",
   "execution_count": 98,
   "metadata": {},
   "outputs": [
    {
     "data": {
      "text/plain": [
       "main_sector\n",
       "Others                                    26,321,007,002.00\n",
       "Social, Finance, Analytics, Advertising   23,807,376,964.00\n",
       "Cleantech / Semiconductors                21,633,430,822.00\n",
       "News, Search and Messaging                13,971,567,428.00\n",
       "Health                                     8,211,859,357.00\n",
       "Manufacturing                              7,258,553,378.00\n",
       "Entertainment                              5,099,197,982.00\n",
       "Automotive & Sports                        1,454,104,361.00\n",
       "Name: raised_amount_usd, dtype: float64"
      ]
     },
     "execution_count": 98,
     "metadata": {},
     "output_type": "execute_result"
    }
   ],
   "source": [
    "D3_by_sector['raised_amount_usd'].sum().sort_values(ascending = False)"
   ]
  },
  {
   "cell_type": "markdown",
   "metadata": {},
   "source": [
    "Finding the highest invested company among the 1st Top sectors of the country."
   ]
  },
  {
   "cell_type": "code",
   "execution_count": 99,
   "metadata": {},
   "outputs": [
    {
     "data": {
      "text/plain": [
       "main_sector  permalink                        \n",
       "Others       /organization/firstcry-com          39,000,000.00\n",
       "             /organization/myntra                38,000,000.00\n",
       "             /organization/commonfloor           32,900,000.00\n",
       "             /organization/pepperfry-com         28,000,000.00\n",
       "             /organization/itzcash-card-ltd      25,000,000.00\n",
       "                                                      ...     \n",
       "             /organization/reznext                5,000,000.00\n",
       "             /organization/voonik-com             5,000,000.00\n",
       "             /organization/vedantu-innovations    5,000,000.00\n",
       "             /organization/securens               5,000,000.00\n",
       "             /organization/liases-foras           5,000,000.00\n",
       "Name: raised_amount_usd, Length: 88, dtype: float64"
      ]
     },
     "execution_count": 99,
     "metadata": {},
     "output_type": "execute_result"
    }
   ],
   "source": [
    "D3[D3['main_sector']=='Others'].groupby(['main_sector','permalink']).raised_amount_usd.sum().sort_values(ascending=False)"
   ]
  },
  {
   "cell_type": "markdown",
   "metadata": {},
   "source": [
    "Finding the highest invested company among the 2nd Top sectors of the country."
   ]
  },
  {
   "cell_type": "code",
   "execution_count": 100,
   "metadata": {},
   "outputs": [
    {
     "data": {
      "text/plain": [
       "main_sector                              permalink                                                 \n",
       "Social, Finance, Analytics, Advertising  /organization/manthan-systems                                50,700,000.00\n",
       "                                         /organization/komli-media                                    28,000,000.00\n",
       "                                         /organization/shopclues-com                                  25,000,000.00\n",
       "                                         /organization/intarvo                                        21,900,000.00\n",
       "                                         /organization/grameen-financial-services                     21,556,050.00\n",
       "                                         /organization/bankbazaar                                     19,000,000.00\n",
       "                                         /organization/microland                                      18,300,000.00\n",
       "                                         /organization/eka-software-solutions                         16,000,000.00\n",
       "                                         /organization/qyuki                                          15,400,000.00\n",
       "                                         /organization/financial-information-network-operations-pvt   15,000,000.00\n",
       "                                         /organization/travelguru                                     15,000,000.00\n",
       "                                         /organization/shiram-credit                                  15,000,000.00\n",
       "                                         /organization/apnaloan                                       15,000,000.00\n",
       "                                         /organization/capital-float                                  13,000,000.00\n",
       "                                         /organization/yepme-com                                      12,700,000.00\n",
       "                                         /organization/coverfox-insurance-broking                     12,000,000.00\n",
       "                                         /organization/funds-india                                    11,000,000.00\n",
       "                                         /organization/emergent-ventures-india                        10,040,000.00\n",
       "                                         /organization/loginext-solutions                             10,000,000.00\n",
       "                                         /organization/lendingkart                                    10,000,000.00\n",
       "                                         /organization/network18                                      10,000,000.00\n",
       "                                         /organization/excellence4u                                   10,000,000.00\n",
       "                                         /organization/unicommerce                                    10,000,000.00\n",
       "                                         /organization/razorpay                                        9,000,000.00\n",
       "                                         /organization/industrybuying                                  9,000,000.00\n",
       "                                         /organization/vizury                                          9,000,000.00\n",
       "                                         /organization/fusion-microfinance                             8,300,000.00\n",
       "                                         /organization/shubham-housing-development-finance-company     8,000,000.00\n",
       "                                         /organization/spire-technologies                              8,000,000.00\n",
       "                                         /organization/prizm-payment-services                          8,000,000.00\n",
       "                                         /organization/indiaideas                                      7,500,000.00\n",
       "                                         /organization/epiance                                         7,500,000.00\n",
       "                                         /organization/crmnext                                         7,003,500.00\n",
       "                                         /organization/neogrowth                                       7,000,000.00\n",
       "                                         /organization/minglebox                                       7,000,000.00\n",
       "                                         /organization/a-little-world                                  6,410,000.00\n",
       "                                         /organization/daksh-infosoft                                  6,000,000.00\n",
       "                                         /organization/furlenco                                        6,000,000.00\n",
       "                                         /organization/agile                                           5,740,000.00\n",
       "                                         /organization/ebs-worldwide-services                          5,500,000.00\n",
       "                                         /organization/eko-india-financial-services                    5,500,000.00\n",
       "                                         /organization/amagi-media-labs                                5,500,000.00\n",
       "                                         /organization/innoviti                                        5,000,000.00\n",
       "                                         /organization/authorstream                                    5,000,000.00\n",
       "                                         /organization/policybazaar                                    5,000,000.00\n",
       "                                         /organization/annapurna-microfinace                           5,000,000.00\n",
       "                                         /organization/akosha                                          5,000,000.00\n",
       "                                         /organization/ideacts-innovations                             5,000,000.00\n",
       "Name: raised_amount_usd, dtype: float64"
      ]
     },
     "execution_count": 100,
     "metadata": {},
     "output_type": "execute_result"
    }
   ],
   "source": [
    "D3[D3['main_sector']=='Social, Finance, Analytics, Advertising'].groupby(['main_sector','permalink']).raised_amount_usd.sum().sort_values(ascending=False)"
   ]
  },
  {
   "cell_type": "markdown",
   "metadata": {},
   "source": [
    "## PLOTS"
   ]
  },
  {
   "cell_type": "markdown",
   "metadata": {},
   "source": [
    "1. A plot showing the representative amount of investment in each funding type"
   ]
  },
  {
   "cell_type": "code",
   "execution_count": 104,
   "metadata": {},
   "outputs": [
    {
     "data": {
      "image/png": "[encoded data removed]",
      "text/plain": [
       "<Figure size 720x360 with 1 Axes>"
      ]
     },
     "metadata": {
      "needs_background": "light"
     },
     "output_type": "display_data"
    }
   ],
   "source": [
    "plt.figure(figsize=(10,5))\n",
    "g=sns.barplot(x='funding_round_type', y='raised_amount_usd', data=master_frame)\n",
    "#g.set_ylim(0, 20000000)\n",
    "#g.set_yscale('log')\n",
    "g.set(xlabel='Funding Type', ylabel='Raised Amount   ( 1 Unit = 10M USD)')\n",
    "g.set_title('Funding Type Analysis',fontsize =18)\n",
    "\n",
    "plt.axhline(5000000, color='green')\n",
    "plt.axhline(15000000, color='red')\n",
    "plt.show()"
   ]
  },
  {
   "cell_type": "markdown",
   "metadata": {},
   "source": [
    "2. A plot showing the top 9 countries against the total amount of investments of funding type FT."
   ]
  },
  {
   "cell_type": "code",
   "execution_count": 105,
   "metadata": {},
   "outputs": [
    {
     "data": {
      "image/png": "[encoded data removed]",
      "text/plain": [
       "<Figure size 720x360 with 1 Axes>"
      ]
     },
     "metadata": {
      "needs_background": "light"
     },
     "output_type": "display_data"
    }
   ],
   "source": [
    "plt.figure(figsize=(10,5))\n",
    "c=sns.barplot(x='country_code', y='raised_amount_usd', data=top9, estimator=np.sum,color=(0.2, 0.4, 0.7, 0.6))\n",
    "#c.set_ylim(0, 100000000000)\n",
    "c.set_yscale('log')\n",
    "c.set(xlabel='Funding Type', ylabel='Raised Amount')\n",
    "c.set_title('Country Analysis',fontsize =18)\n",
    "plt.show()"
   ]
  },
  {
   "cell_type": "markdown",
   "metadata": {},
   "source": [
    "3. A plot showing the number of investments in the top 3 sectors of the top 3 countries on one chart (for the chosen investment type VENTURE)"
   ]
  },
  {
   "cell_type": "markdown",
   "metadata": {},
   "source": [
    "For this plot creating a master dataframe with all the data for the top 3 sectors of the top 3 countries."
   ]
  },
  {
   "cell_type": "code",
   "execution_count": 106,
   "metadata": {},
   "outputs": [],
   "source": [
    "master_D=D1[D1['main_sector'].isin(['Others','Social, Finance, Analytics, Advertising','Cleantech / Semiconductors'])]"
   ]
  },
  {
   "cell_type": "code",
   "execution_count": 107,
   "metadata": {},
   "outputs": [
    {
     "data": {
      "text/plain": [
       "(8014, 15)"
      ]
     },
     "execution_count": 107,
     "metadata": {},
     "output_type": "execute_result"
    }
   ],
   "source": [
    "master_D.shape"
   ]
  },
  {
   "cell_type": "code",
   "execution_count": 108,
   "metadata": {},
   "outputs": [],
   "source": [
    "master_D=master_D.append(D2[D2['main_sector'].isin(['Others','Social, Finance, Analytics, Advertising','Cleantech / Semiconductors'])], ignore_index=True)"
   ]
  },
  {
   "cell_type": "code",
   "execution_count": 109,
   "metadata": {},
   "outputs": [
    {
     "data": {
      "text/plain": [
       "(8424, 15)"
      ]
     },
     "execution_count": 109,
     "metadata": {},
     "output_type": "execute_result"
    }
   ],
   "source": [
    "master_D.shape"
   ]
  },
  {
   "cell_type": "code",
   "execution_count": 110,
   "metadata": {},
   "outputs": [],
   "source": [
    "master_D=master_D.append(D3[D3['main_sector'].isin(['Others','Social, Finance, Analytics, Advertising','News, Search and Messaging'])], ignore_index=True)"
   ]
  },
  {
   "cell_type": "code",
   "execution_count": 111,
   "metadata": {},
   "outputs": [
    {
     "data": {
      "text/plain": [
       "(8646, 15)"
      ]
     },
     "execution_count": 111,
     "metadata": {},
     "output_type": "execute_result"
    }
   ],
   "source": [
    "master_D.shape"
   ]
  },
  {
   "cell_type": "markdown",
   "metadata": {},
   "source": [
    "Using the master_D dataframe to plot the sector wise investment count of the top 3 sectors of the top3 countries."
   ]
  },
  {
   "cell_type": "code",
   "execution_count": 112,
   "metadata": {},
   "outputs": [
    {
     "data": {
      "image/png": "[encoded data removed]",
      "text/plain": [
       "<Figure size 960x640 with 1 Axes>"
      ]
     },
     "metadata": {},
     "output_type": "display_data"
    }
   ],
   "source": [
    "plt.figure(num=None, figsize=(12, 8), dpi=80, facecolor='w', edgecolor='k')\n",
    "\n",
    "# specify hue=\"categorical_variable\"\n",
    "s=sns.barplot(x='country_code', y='raised_amount_usd', hue=\"main_sector\", data=master_D,estimator=lambda x: len(x))\n",
    "s.set(xlabel='Country', ylabel='Number of Investments')\n",
    "s.set_title('Investments in top3 sectors of top 3 countries',fontsize =18)\n",
    "plt.show()"
   ]
  },
  {
   "cell_type": "markdown",
   "metadata": {},
   "source": [
    "## THANK YOU!"
   ]
  },
  {
   "cell_type": "code",
   "execution_count": null,
   "metadata": {},
   "outputs": [],
   "source": []
  }
 ],
 "metadata": {
  "kernelspec": {
   "display_name": "Python 3",
   "language": "python",
   "name": "python3"
  },
  "language_info": {
   "codemirror_mode": {
    "name": "ipython",
    "version": 3
   },
   "file_extension": ".py",
   "mimetype": "text/x-python",
   "name": "python",
   "nbconvert_exporter": "python",
   "pygments_lexer": "ipython3",
   "version": "3.8.5"
  }
 },
 "nbformat": 4,
 "nbformat_minor": 4
}
